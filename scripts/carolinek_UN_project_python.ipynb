{
 "cells": [
  {
   "cell_type": "code",
   "execution_count": 1,
   "id": "e5878391",
   "metadata": {},
   "outputs": [],
   "source": [
    "import pandas as pd\n",
    "import numpy as np\n",
    "import matplotlib.pyplot as plt\n",
    "import seaborn as sns"
   ]
  },
  {
   "cell_type": "code",
   "execution_count": 2,
   "id": "b814fd98",
   "metadata": {},
   "outputs": [],
   "source": [
    "gdp_df = pd.read_csv('../data/gdp_percapita.csv')"
   ]
  },
  {
   "cell_type": "markdown",
   "id": "e2b972cb",
   "metadata": {},
   "source": [
    "4.\tUsing the pandas `read_csv()` method, read the GDP dataset into your notebook as a DataFrame called `gdp_df`. Take a look at the first few and last few rows to familiarize yourself with what is contained in this dataset."
   ]
  },
  {
   "cell_type": "code",
   "execution_count": 3,
   "id": "c6a68565",
   "metadata": {},
   "outputs": [
    {
     "data": {
      "text/html": [
       "<div>\n",
       "<style scoped>\n",
       "    .dataframe tbody tr th:only-of-type {\n",
       "        vertical-align: middle;\n",
       "    }\n",
       "\n",
       "    .dataframe tbody tr th {\n",
       "        vertical-align: top;\n",
       "    }\n",
       "\n",
       "    .dataframe thead th {\n",
       "        text-align: right;\n",
       "    }\n",
       "</style>\n",
       "<table border=\"1\" class=\"dataframe\">\n",
       "  <thead>\n",
       "    <tr style=\"text-align: right;\">\n",
       "      <th></th>\n",
       "      <th>Country or Area</th>\n",
       "      <th>Year</th>\n",
       "      <th>Value</th>\n",
       "      <th>Value Footnotes</th>\n",
       "    </tr>\n",
       "  </thead>\n",
       "  <tbody>\n",
       "    <tr>\n",
       "      <th>0</th>\n",
       "      <td>Afghanistan</td>\n",
       "      <td>2020</td>\n",
       "      <td>1970.560169</td>\n",
       "      <td>NaN</td>\n",
       "    </tr>\n",
       "    <tr>\n",
       "      <th>1</th>\n",
       "      <td>Afghanistan</td>\n",
       "      <td>2019</td>\n",
       "      <td>2065.036235</td>\n",
       "      <td>NaN</td>\n",
       "    </tr>\n",
       "    <tr>\n",
       "      <th>2</th>\n",
       "      <td>Afghanistan</td>\n",
       "      <td>2018</td>\n",
       "      <td>2033.804389</td>\n",
       "      <td>NaN</td>\n",
       "    </tr>\n",
       "    <tr>\n",
       "      <th>3</th>\n",
       "      <td>Afghanistan</td>\n",
       "      <td>2017</td>\n",
       "      <td>2058.400221</td>\n",
       "      <td>NaN</td>\n",
       "    </tr>\n",
       "    <tr>\n",
       "      <th>4</th>\n",
       "      <td>Afghanistan</td>\n",
       "      <td>2016</td>\n",
       "      <td>2057.067978</td>\n",
       "      <td>NaN</td>\n",
       "    </tr>\n",
       "  </tbody>\n",
       "</table>\n",
       "</div>"
      ],
      "text/plain": [
       "  Country or Area  Year        Value  Value Footnotes\n",
       "0     Afghanistan  2020  1970.560169              NaN\n",
       "1     Afghanistan  2019  2065.036235              NaN\n",
       "2     Afghanistan  2018  2033.804389              NaN\n",
       "3     Afghanistan  2017  2058.400221              NaN\n",
       "4     Afghanistan  2016  2057.067978              NaN"
      ]
     },
     "execution_count": 3,
     "metadata": {},
     "output_type": "execute_result"
    }
   ],
   "source": [
    "gdp_df.head()"
   ]
  },
  {
   "cell_type": "code",
   "execution_count": 4,
   "id": "1e71de80",
   "metadata": {},
   "outputs": [
    {
     "data": {
      "text/html": [
       "<div>\n",
       "<style scoped>\n",
       "    .dataframe tbody tr th:only-of-type {\n",
       "        vertical-align: middle;\n",
       "    }\n",
       "\n",
       "    .dataframe tbody tr th {\n",
       "        vertical-align: top;\n",
       "    }\n",
       "\n",
       "    .dataframe thead th {\n",
       "        text-align: right;\n",
       "    }\n",
       "</style>\n",
       "<table border=\"1\" class=\"dataframe\">\n",
       "  <thead>\n",
       "    <tr style=\"text-align: right;\">\n",
       "      <th></th>\n",
       "      <th>Country or Area</th>\n",
       "      <th>Year</th>\n",
       "      <th>Value</th>\n",
       "      <th>Value Footnotes</th>\n",
       "    </tr>\n",
       "  </thead>\n",
       "  <tbody>\n",
       "    <tr>\n",
       "      <th>7171</th>\n",
       "      <td>Zimbabwe</td>\n",
       "      <td>1994</td>\n",
       "      <td>2603.927369</td>\n",
       "      <td>NaN</td>\n",
       "    </tr>\n",
       "    <tr>\n",
       "      <th>7172</th>\n",
       "      <td>Zimbabwe</td>\n",
       "      <td>1993</td>\n",
       "      <td>2420.092791</td>\n",
       "      <td>NaN</td>\n",
       "    </tr>\n",
       "    <tr>\n",
       "      <th>7173</th>\n",
       "      <td>Zimbabwe</td>\n",
       "      <td>1992</td>\n",
       "      <td>2437.152908</td>\n",
       "      <td>NaN</td>\n",
       "    </tr>\n",
       "    <tr>\n",
       "      <th>7174</th>\n",
       "      <td>Zimbabwe</td>\n",
       "      <td>1991</td>\n",
       "      <td>2733.696626</td>\n",
       "      <td>NaN</td>\n",
       "    </tr>\n",
       "    <tr>\n",
       "      <th>7175</th>\n",
       "      <td>Zimbabwe</td>\n",
       "      <td>1990</td>\n",
       "      <td>2652.129209</td>\n",
       "      <td>NaN</td>\n",
       "    </tr>\n",
       "  </tbody>\n",
       "</table>\n",
       "</div>"
      ],
      "text/plain": [
       "     Country or Area  Year        Value  Value Footnotes\n",
       "7171        Zimbabwe  1994  2603.927369              NaN\n",
       "7172        Zimbabwe  1993  2420.092791              NaN\n",
       "7173        Zimbabwe  1992  2437.152908              NaN\n",
       "7174        Zimbabwe  1991  2733.696626              NaN\n",
       "7175        Zimbabwe  1990  2652.129209              NaN"
      ]
     },
     "execution_count": 4,
     "metadata": {},
     "output_type": "execute_result"
    }
   ],
   "source": [
    "gdp_df.tail()"
   ]
  },
  {
   "cell_type": "markdown",
   "id": "abf1d5a6",
   "metadata": {},
   "source": [
    " 5. How many rows and columns are in `gdp_df`? What are the data types of each column?"
   ]
  },
  {
   "cell_type": "code",
   "execution_count": 5,
   "id": "e7636289",
   "metadata": {},
   "outputs": [
    {
     "data": {
      "text/plain": [
       "(7176, 4)"
      ]
     },
     "execution_count": 5,
     "metadata": {},
     "output_type": "execute_result"
    }
   ],
   "source": [
    "gdp_df.shape"
   ]
  },
  {
   "cell_type": "code",
   "execution_count": 6,
   "id": "74724bd6",
   "metadata": {},
   "outputs": [
    {
     "data": {
      "text/plain": [
       "str"
      ]
     },
     "execution_count": 6,
     "metadata": {},
     "output_type": "execute_result"
    }
   ],
   "source": [
    "type('Country or Area')"
   ]
  },
  {
   "cell_type": "code",
   "execution_count": 7,
   "id": "f329abb9",
   "metadata": {},
   "outputs": [
    {
     "data": {
      "text/plain": [
       "str"
      ]
     },
     "execution_count": 7,
     "metadata": {},
     "output_type": "execute_result"
    }
   ],
   "source": [
    "type('Year')"
   ]
  },
  {
   "cell_type": "code",
   "execution_count": 8,
   "id": "69ac3f8c",
   "metadata": {},
   "outputs": [
    {
     "data": {
      "text/plain": [
       "str"
      ]
     },
     "execution_count": 8,
     "metadata": {},
     "output_type": "execute_result"
    }
   ],
   "source": [
    "type('Value')"
   ]
  },
  {
   "cell_type": "code",
   "execution_count": 9,
   "id": "a2dd52f0",
   "metadata": {},
   "outputs": [
    {
     "data": {
      "text/plain": [
       "str"
      ]
     },
     "execution_count": 9,
     "metadata": {},
     "output_type": "execute_result"
    }
   ],
   "source": [
    "type('Value Footnotes')"
   ]
  },
  {
   "cell_type": "markdown",
   "id": "613deaff",
   "metadata": {},
   "source": [
    "6. Drop the `Value Footnotes` column and rename the remaining three to 'Country', 'Year', and 'GDP_Per_Capita'."
   ]
  },
  {
   "cell_type": "code",
   "execution_count": 10,
   "id": "177b0683",
   "metadata": {},
   "outputs": [],
   "source": [
    "gdp_df = gdp_df.drop(columns = ['Value Footnotes'])"
   ]
  },
  {
   "cell_type": "markdown",
   "id": "eff82274",
   "metadata": {},
   "source": [
    "View column names"
   ]
  },
  {
   "cell_type": "code",
   "execution_count": 11,
   "id": "639caa04",
   "metadata": {},
   "outputs": [
    {
     "data": {
      "text/plain": [
       "Index(['Country or Area', 'Year', 'Value'], dtype='object')"
      ]
     },
     "execution_count": 11,
     "metadata": {},
     "output_type": "execute_result"
    }
   ],
   "source": [
    "gdp_df.columns"
   ]
  },
  {
   "cell_type": "markdown",
   "id": "acc54a27",
   "metadata": {},
   "source": [
    "Change column names"
   ]
  },
  {
   "cell_type": "code",
   "execution_count": 12,
   "id": "ccecbb90",
   "metadata": {},
   "outputs": [],
   "source": [
    "gdp_df.columns = ['country', 'year', 'gdp_per_capita']"
   ]
  },
  {
   "cell_type": "code",
   "execution_count": 13,
   "id": "d5cbc7eb",
   "metadata": {},
   "outputs": [
    {
     "data": {
      "text/plain": [
       "Index(['country', 'year', 'gdp_per_capita'], dtype='object')"
      ]
     },
     "execution_count": 13,
     "metadata": {},
     "output_type": "execute_result"
    }
   ],
   "source": [
    "gdp_df.columns"
   ]
  },
  {
   "cell_type": "markdown",
   "id": "42190933",
   "metadata": {},
   "source": [
    "7. How many countries have data for all years? Which countries are missing many years of data? Look at the number of observations per year. What do you notice? "
   ]
  },
  {
   "cell_type": "markdown",
   "id": "6c60c31c",
   "metadata": {},
   "source": [
    "Find range of years in data set (+1 inclusive)"
   ]
  },
  {
   "cell_type": "code",
   "execution_count": 14,
   "id": "a6ca6d97",
   "metadata": {},
   "outputs": [
    {
     "name": "stdout",
     "output_type": "stream",
     "text": [
      "2020\n",
      "1990\n",
      "31\n"
     ]
    }
   ],
   "source": [
    "print(gdp_df['year'].max())\n",
    "print(gdp_df['year'].min())\n",
    "print(2020 - 1990 + 1)"
   ]
  },
  {
   "cell_type": "markdown",
   "id": "09157cb4",
   "metadata": {},
   "source": [
    "Create df of all country-year pairs. Create lists of all countries, with and without duplicates. Create list of all years, with dupes."
   ]
  },
  {
   "cell_type": "code",
   "execution_count": 15,
   "id": "e86a8ecf",
   "metadata": {},
   "outputs": [],
   "source": [
    "cy = gdp_df.drop( columns = 'gdp_per_capita')\n",
    "cy = cy.drop_duplicates()\n",
    "cy.head()\n",
    "\n",
    "c_u = cy.drop( columns = 'year')\n",
    "c_dupes = c_u.country.tolist()\n",
    "c_list = c_u.drop_duplicates()\n",
    "c_list = c_list.country.tolist()\n",
    "\n",
    "\n",
    "year = cy.drop ( columns = 'country')\n",
    "year_dupe = year.year.tolist()\n",
    "year_u = year.drop_duplicates()\n",
    "year_u = year_u.year.tolist()"
   ]
  },
  {
   "cell_type": "markdown",
   "id": "210066ef",
   "metadata": {},
   "source": [
    "cd_dict {country_name : #_yrs_data}"
   ]
  },
  {
   "cell_type": "code",
   "execution_count": 16,
   "id": "ce88ca97",
   "metadata": {
    "scrolled": true
   },
   "outputs": [],
   "source": [
    "cd_dict = {}\n",
    "\n",
    "accum = 0\n",
    "\n",
    "for c in c_dupes:\n",
    "    if c not in cd_dict:\n",
    "        cd_dict[c] = 0\n",
    "    \n",
    "    cd_dict[c] = cd_dict[c] + 1   "
   ]
  },
  {
   "cell_type": "markdown",
   "id": "eb719a75",
   "metadata": {},
   "source": [
    "num_dict = {#_of_years : countries with that many years data}"
   ]
  },
  {
   "cell_type": "code",
   "execution_count": 17,
   "id": "3d94a857",
   "metadata": {},
   "outputs": [
    {
     "data": {
      "text/plain": [
       "{1: 0,\n",
       " 2: 0,\n",
       " 3: 0,\n",
       " 4: 0,\n",
       " 5: 0,\n",
       " 6: 0,\n",
       " 7: 0,\n",
       " 8: 2,\n",
       " 9: 0,\n",
       " 10: 2,\n",
       " 11: 0,\n",
       " 12: 0,\n",
       " 13: 1,\n",
       " 14: 0,\n",
       " 15: 1,\n",
       " 16: 0,\n",
       " 17: 1,\n",
       " 18: 0,\n",
       " 19: 1,\n",
       " 20: 1,\n",
       " 21: 6,\n",
       " 22: 1,\n",
       " 23: 0,\n",
       " 24: 4,\n",
       " 25: 0,\n",
       " 26: 11,\n",
       " 27: 2,\n",
       " 28: 1,\n",
       " 29: 1,\n",
       " 30: 2,\n",
       " 31: 205}"
      ]
     },
     "execution_count": 17,
     "metadata": {},
     "output_type": "execute_result"
    }
   ],
   "source": [
    "num_dict = {}\n",
    "\n",
    "for n in range(1,32):\n",
    "    num_dict[n] = 0\n",
    "    \n",
    "\n",
    "for n in cd_dict.values():\n",
    "    num_dict[n] = num_dict[n] + 1\n",
    "    \n",
    "num_dict"
   ]
  },
  {
   "cell_type": "markdown",
   "id": "20908b8a",
   "metadata": {},
   "source": [
    "7.a How many countries have data for all years? **Answer** 205"
   ]
  },
  {
   "cell_type": "markdown",
   "id": "571a4ef6",
   "metadata": {},
   "source": [
    "7.b Which countries are missing many years of data?"
   ]
  },
  {
   "cell_type": "code",
   "execution_count": 18,
   "id": "82956c3e",
   "metadata": {},
   "outputs": [
    {
     "data": {
      "text/plain": [
       "Least developed countries: UN classification    31\n",
       "Niger                                           31\n",
       "Middle East & North Africa (IDA & IBRD)         31\n",
       "Middle income                                   31\n",
       "Mongolia                                        31\n",
       "Name: country, dtype: int64"
      ]
     },
     "execution_count": 18,
     "metadata": {},
     "output_type": "execute_result"
    }
   ],
   "source": [
    "cd_counts = gdp_df.country.value_counts()\n",
    "cd_counts.head()"
   ]
  },
  {
   "cell_type": "code",
   "execution_count": 19,
   "id": "6db14a1c",
   "metadata": {},
   "outputs": [
    {
     "data": {
      "text/plain": [
       "(242, 1)"
      ]
     },
     "execution_count": 19,
     "metadata": {},
     "output_type": "execute_result"
    }
   ],
   "source": [
    "cd_counts = cd_counts.to_frame()\n",
    "cd_counts.shape"
   ]
  },
  {
   "cell_type": "code",
   "execution_count": 20,
   "id": "c2472f31",
   "metadata": {},
   "outputs": [
    {
     "data": {
      "text/html": [
       "<div>\n",
       "<style scoped>\n",
       "    .dataframe tbody tr th:only-of-type {\n",
       "        vertical-align: middle;\n",
       "    }\n",
       "\n",
       "    .dataframe tbody tr th {\n",
       "        vertical-align: top;\n",
       "    }\n",
       "\n",
       "    .dataframe thead th {\n",
       "        text-align: right;\n",
       "    }\n",
       "</style>\n",
       "<table border=\"1\" class=\"dataframe\">\n",
       "  <thead>\n",
       "    <tr style=\"text-align: right;\">\n",
       "      <th></th>\n",
       "      <th>index</th>\n",
       "      <th>country</th>\n",
       "    </tr>\n",
       "  </thead>\n",
       "  <tbody>\n",
       "    <tr>\n",
       "      <th>0</th>\n",
       "      <td>Least developed countries: UN classification</td>\n",
       "      <td>31</td>\n",
       "    </tr>\n",
       "    <tr>\n",
       "      <th>1</th>\n",
       "      <td>Niger</td>\n",
       "      <td>31</td>\n",
       "    </tr>\n",
       "    <tr>\n",
       "      <th>2</th>\n",
       "      <td>Middle East &amp; North Africa (IDA &amp; IBRD)</td>\n",
       "      <td>31</td>\n",
       "    </tr>\n",
       "    <tr>\n",
       "      <th>3</th>\n",
       "      <td>Middle income</td>\n",
       "      <td>31</td>\n",
       "    </tr>\n",
       "    <tr>\n",
       "      <th>4</th>\n",
       "      <td>Mongolia</td>\n",
       "      <td>31</td>\n",
       "    </tr>\n",
       "  </tbody>\n",
       "</table>\n",
       "</div>"
      ],
      "text/plain": [
       "                                          index  country\n",
       "0  Least developed countries: UN classification       31\n",
       "1                                         Niger       31\n",
       "2       Middle East & North Africa (IDA & IBRD)       31\n",
       "3                                 Middle income       31\n",
       "4                                      Mongolia       31"
      ]
     },
     "execution_count": 20,
     "metadata": {},
     "output_type": "execute_result"
    }
   ],
   "source": [
    "cd_counts = cd_counts.reset_index()\n",
    "cd_counts.head()"
   ]
  },
  {
   "cell_type": "code",
   "execution_count": 21,
   "id": "0c46d6c2",
   "metadata": {},
   "outputs": [
    {
     "data": {
      "text/html": [
       "<div>\n",
       "<style scoped>\n",
       "    .dataframe tbody tr th:only-of-type {\n",
       "        vertical-align: middle;\n",
       "    }\n",
       "\n",
       "    .dataframe tbody tr th {\n",
       "        vertical-align: top;\n",
       "    }\n",
       "\n",
       "    .dataframe thead th {\n",
       "        text-align: right;\n",
       "    }\n",
       "</style>\n",
       "<table border=\"1\" class=\"dataframe\">\n",
       "  <thead>\n",
       "    <tr style=\"text-align: right;\">\n",
       "      <th></th>\n",
       "      <th>country</th>\n",
       "      <th>count_yrs</th>\n",
       "    </tr>\n",
       "  </thead>\n",
       "  <tbody>\n",
       "    <tr>\n",
       "      <th>0</th>\n",
       "      <td>Least developed countries: UN classification</td>\n",
       "      <td>31</td>\n",
       "    </tr>\n",
       "    <tr>\n",
       "      <th>1</th>\n",
       "      <td>Niger</td>\n",
       "      <td>31</td>\n",
       "    </tr>\n",
       "    <tr>\n",
       "      <th>2</th>\n",
       "      <td>Middle East &amp; North Africa (IDA &amp; IBRD)</td>\n",
       "      <td>31</td>\n",
       "    </tr>\n",
       "    <tr>\n",
       "      <th>3</th>\n",
       "      <td>Middle income</td>\n",
       "      <td>31</td>\n",
       "    </tr>\n",
       "    <tr>\n",
       "      <th>4</th>\n",
       "      <td>Mongolia</td>\n",
       "      <td>31</td>\n",
       "    </tr>\n",
       "  </tbody>\n",
       "</table>\n",
       "</div>"
      ],
      "text/plain": [
       "                                        country  count_yrs\n",
       "0  Least developed countries: UN classification         31\n",
       "1                                         Niger         31\n",
       "2       Middle East & North Africa (IDA & IBRD)         31\n",
       "3                                 Middle income         31\n",
       "4                                      Mongolia         31"
      ]
     },
     "execution_count": 21,
     "metadata": {},
     "output_type": "execute_result"
    }
   ],
   "source": [
    "cd_counts.columns = ['country','count_yrs']\n",
    "cd_counts.head()"
   ]
  },
  {
   "cell_type": "code",
   "execution_count": 22,
   "id": "15b612cc",
   "metadata": {
    "scrolled": true
   },
   "outputs": [
    {
     "data": {
      "text/plain": [
       "[31,\n",
       " 31,\n",
       " 31,\n",
       " 31,\n",
       " 31,\n",
       " 31,\n",
       " 31,\n",
       " 31,\n",
       " 31,\n",
       " 31,\n",
       " 31,\n",
       " 31,\n",
       " 31,\n",
       " 31,\n",
       " 31,\n",
       " 31,\n",
       " 31,\n",
       " 31,\n",
       " 31,\n",
       " 31,\n",
       " 31,\n",
       " 31,\n",
       " 31,\n",
       " 31,\n",
       " 31,\n",
       " 31,\n",
       " 31,\n",
       " 31,\n",
       " 31,\n",
       " 31,\n",
       " 31,\n",
       " 31,\n",
       " 31,\n",
       " 31,\n",
       " 31,\n",
       " 31,\n",
       " 31,\n",
       " 31,\n",
       " 31,\n",
       " 31,\n",
       " 31,\n",
       " 31,\n",
       " 31,\n",
       " 31,\n",
       " 31,\n",
       " 31,\n",
       " 31,\n",
       " 31,\n",
       " 31,\n",
       " 31,\n",
       " 31,\n",
       " 31,\n",
       " 31,\n",
       " 31,\n",
       " 31,\n",
       " 31,\n",
       " 31,\n",
       " 31,\n",
       " 31,\n",
       " 31,\n",
       " 31,\n",
       " 31,\n",
       " 31,\n",
       " 31,\n",
       " 31,\n",
       " 31,\n",
       " 31,\n",
       " 31,\n",
       " 31,\n",
       " 31,\n",
       " 31,\n",
       " 31,\n",
       " 31,\n",
       " 31,\n",
       " 31,\n",
       " 31,\n",
       " 31,\n",
       " 31,\n",
       " 31,\n",
       " 31,\n",
       " 31,\n",
       " 31,\n",
       " 31,\n",
       " 31,\n",
       " 31,\n",
       " 31,\n",
       " 31,\n",
       " 31,\n",
       " 31,\n",
       " 31,\n",
       " 31,\n",
       " 31,\n",
       " 31,\n",
       " 31,\n",
       " 31,\n",
       " 31,\n",
       " 31,\n",
       " 31,\n",
       " 31,\n",
       " 31,\n",
       " 31,\n",
       " 31,\n",
       " 31,\n",
       " 31,\n",
       " 31,\n",
       " 31,\n",
       " 31,\n",
       " 31,\n",
       " 31,\n",
       " 31,\n",
       " 31,\n",
       " 31,\n",
       " 31,\n",
       " 31,\n",
       " 31,\n",
       " 31,\n",
       " 31,\n",
       " 31,\n",
       " 31,\n",
       " 31,\n",
       " 31,\n",
       " 31,\n",
       " 31,\n",
       " 31,\n",
       " 31,\n",
       " 31,\n",
       " 31,\n",
       " 31,\n",
       " 31,\n",
       " 31,\n",
       " 31,\n",
       " 31,\n",
       " 31,\n",
       " 31,\n",
       " 31,\n",
       " 31,\n",
       " 31,\n",
       " 31,\n",
       " 31,\n",
       " 31,\n",
       " 31,\n",
       " 31,\n",
       " 31,\n",
       " 31,\n",
       " 31,\n",
       " 31,\n",
       " 31,\n",
       " 31,\n",
       " 31,\n",
       " 31,\n",
       " 31,\n",
       " 31,\n",
       " 31,\n",
       " 31,\n",
       " 31,\n",
       " 31,\n",
       " 31,\n",
       " 31,\n",
       " 31,\n",
       " 31,\n",
       " 31,\n",
       " 31,\n",
       " 31,\n",
       " 31,\n",
       " 31,\n",
       " 31,\n",
       " 31,\n",
       " 31,\n",
       " 31,\n",
       " 31,\n",
       " 31,\n",
       " 31,\n",
       " 31,\n",
       " 31,\n",
       " 31,\n",
       " 31,\n",
       " 31,\n",
       " 31,\n",
       " 31,\n",
       " 31,\n",
       " 31,\n",
       " 31,\n",
       " 31,\n",
       " 31,\n",
       " 31,\n",
       " 31,\n",
       " 31,\n",
       " 31,\n",
       " 31,\n",
       " 31,\n",
       " 31,\n",
       " 31,\n",
       " 31,\n",
       " 31,\n",
       " 31,\n",
       " 31,\n",
       " 31,\n",
       " 31,\n",
       " 31,\n",
       " 31,\n",
       " 31,\n",
       " 31,\n",
       " 31,\n",
       " 31,\n",
       " 31,\n",
       " 30,\n",
       " 30,\n",
       " 29,\n",
       " 28,\n",
       " 27,\n",
       " 27,\n",
       " 26,\n",
       " 26,\n",
       " 26,\n",
       " 26,\n",
       " 26,\n",
       " 26,\n",
       " 26,\n",
       " 26,\n",
       " 26,\n",
       " 26,\n",
       " 26,\n",
       " 24,\n",
       " 24,\n",
       " 24,\n",
       " 24,\n",
       " 22,\n",
       " 21,\n",
       " 21,\n",
       " 21,\n",
       " 21,\n",
       " 21,\n",
       " 21,\n",
       " 20,\n",
       " 19,\n",
       " 17,\n",
       " 15,\n",
       " 13,\n",
       " 10,\n",
       " 10,\n",
       " 8,\n",
       " 8]"
      ]
     },
     "execution_count": 22,
     "metadata": {},
     "output_type": "execute_result"
    }
   ],
   "source": [
    "cd_counts['count_yrs'].tolist()"
   ]
  },
  {
   "cell_type": "markdown",
   "id": "603df063",
   "metadata": {},
   "source": [
    "7.b Which countries are missing many years of data?\n",
    "\n",
    "Data was collected for 31 years. Below are the 20 countries with the least data."
   ]
  },
  {
   "cell_type": "code",
   "execution_count": 23,
   "id": "a9e7296d",
   "metadata": {},
   "outputs": [
    {
     "data": {
      "text/html": [
       "<div>\n",
       "<style scoped>\n",
       "    .dataframe tbody tr th:only-of-type {\n",
       "        vertical-align: middle;\n",
       "    }\n",
       "\n",
       "    .dataframe tbody tr th {\n",
       "        vertical-align: top;\n",
       "    }\n",
       "\n",
       "    .dataframe thead th {\n",
       "        text-align: right;\n",
       "    }\n",
       "</style>\n",
       "<table border=\"1\" class=\"dataframe\">\n",
       "  <thead>\n",
       "    <tr style=\"text-align: right;\">\n",
       "      <th></th>\n",
       "      <th>country</th>\n",
       "      <th>count_yrs</th>\n",
       "    </tr>\n",
       "  </thead>\n",
       "  <tbody>\n",
       "    <tr>\n",
       "      <th>222</th>\n",
       "      <td>Canada</td>\n",
       "      <td>24</td>\n",
       "    </tr>\n",
       "    <tr>\n",
       "      <th>223</th>\n",
       "      <td>Montenegro</td>\n",
       "      <td>24</td>\n",
       "    </tr>\n",
       "    <tr>\n",
       "      <th>224</th>\n",
       "      <td>Small states</td>\n",
       "      <td>24</td>\n",
       "    </tr>\n",
       "    <tr>\n",
       "      <th>225</th>\n",
       "      <td>San Marino</td>\n",
       "      <td>24</td>\n",
       "    </tr>\n",
       "    <tr>\n",
       "      <th>226</th>\n",
       "      <td>Libya</td>\n",
       "      <td>22</td>\n",
       "    </tr>\n",
       "    <tr>\n",
       "      <th>227</th>\n",
       "      <td>Other small states</td>\n",
       "      <td>21</td>\n",
       "    </tr>\n",
       "    <tr>\n",
       "      <th>228</th>\n",
       "      <td>Liberia</td>\n",
       "      <td>21</td>\n",
       "    </tr>\n",
       "    <tr>\n",
       "      <th>229</th>\n",
       "      <td>Timor-Leste</td>\n",
       "      <td>21</td>\n",
       "    </tr>\n",
       "    <tr>\n",
       "      <th>230</th>\n",
       "      <td>CuraÃ§ao</td>\n",
       "      <td>21</td>\n",
       "    </tr>\n",
       "    <tr>\n",
       "      <th>231</th>\n",
       "      <td>Qatar</td>\n",
       "      <td>21</td>\n",
       "    </tr>\n",
       "    <tr>\n",
       "      <th>232</th>\n",
       "      <td>Palau</td>\n",
       "      <td>21</td>\n",
       "    </tr>\n",
       "    <tr>\n",
       "      <th>233</th>\n",
       "      <td>SÃ£o TomÃ© and Principe</td>\n",
       "      <td>20</td>\n",
       "    </tr>\n",
       "    <tr>\n",
       "      <th>234</th>\n",
       "      <td>Afghanistan</td>\n",
       "      <td>19</td>\n",
       "    </tr>\n",
       "    <tr>\n",
       "      <th>235</th>\n",
       "      <td>Nauru</td>\n",
       "      <td>17</td>\n",
       "    </tr>\n",
       "    <tr>\n",
       "      <th>236</th>\n",
       "      <td>Cayman Islands</td>\n",
       "      <td>15</td>\n",
       "    </tr>\n",
       "    <tr>\n",
       "      <th>237</th>\n",
       "      <td>Kosovo</td>\n",
       "      <td>13</td>\n",
       "    </tr>\n",
       "    <tr>\n",
       "      <th>238</th>\n",
       "      <td>Turks and Caicos Islands</td>\n",
       "      <td>10</td>\n",
       "    </tr>\n",
       "    <tr>\n",
       "      <th>239</th>\n",
       "      <td>Sint Maarten (Dutch part)</td>\n",
       "      <td>10</td>\n",
       "    </tr>\n",
       "    <tr>\n",
       "      <th>240</th>\n",
       "      <td>Somalia</td>\n",
       "      <td>8</td>\n",
       "    </tr>\n",
       "    <tr>\n",
       "      <th>241</th>\n",
       "      <td>Djibouti</td>\n",
       "      <td>8</td>\n",
       "    </tr>\n",
       "  </tbody>\n",
       "</table>\n",
       "</div>"
      ],
      "text/plain": [
       "                       country  count_yrs\n",
       "222                     Canada         24\n",
       "223                 Montenegro         24\n",
       "224               Small states         24\n",
       "225                 San Marino         24\n",
       "226                      Libya         22\n",
       "227         Other small states         21\n",
       "228                    Liberia         21\n",
       "229                Timor-Leste         21\n",
       "230                   CuraÃ§ao         21\n",
       "231                      Qatar         21\n",
       "232                      Palau         21\n",
       "233    SÃ£o TomÃ© and Principe         20\n",
       "234                Afghanistan         19\n",
       "235                      Nauru         17\n",
       "236             Cayman Islands         15\n",
       "237                     Kosovo         13\n",
       "238   Turks and Caicos Islands         10\n",
       "239  Sint Maarten (Dutch part)         10\n",
       "240                    Somalia          8\n",
       "241                   Djibouti          8"
      ]
     },
     "execution_count": 23,
     "metadata": {},
     "output_type": "execute_result"
    }
   ],
   "source": [
    "cd_counts.tail(20)"
   ]
  },
  {
   "cell_type": "markdown",
   "id": "64c6f4ec",
   "metadata": {},
   "source": [
    "7.c Look at the number of observations per year. What do you notice? \n",
    "\n",
    "Over time, the number of observations per year has increased, especially in the 90s. "
   ]
  },
  {
   "cell_type": "code",
   "execution_count": 24,
   "id": "7eb1826f",
   "metadata": {
    "scrolled": true
   },
   "outputs": [
    {
     "data": {
      "text/plain": [
       "{2020: 240,\n",
       " 2019: 241,\n",
       " 2018: 242,\n",
       " 2017: 242,\n",
       " 2016: 242,\n",
       " 2015: 242,\n",
       " 2014: 242,\n",
       " 2013: 242,\n",
       " 2012: 240,\n",
       " 2011: 240,\n",
       " 2010: 239,\n",
       " 2009: 239,\n",
       " 2008: 238,\n",
       " 2007: 237,\n",
       " 2006: 237,\n",
       " 2005: 236,\n",
       " 2004: 236,\n",
       " 2003: 235,\n",
       " 2002: 235,\n",
       " 2001: 234,\n",
       " 2000: 233,\n",
       " 1999: 227,\n",
       " 1998: 226,\n",
       " 1997: 226,\n",
       " 1996: 222,\n",
       " 1995: 222,\n",
       " 1994: 211,\n",
       " 1993: 209,\n",
       " 1992: 208,\n",
       " 1991: 207,\n",
       " 1990: 206}"
      ]
     },
     "execution_count": 24,
     "metadata": {},
     "output_type": "execute_result"
    }
   ],
   "source": [
    "count_by_year = {}\n",
    "\n",
    "for y in year_dupe:\n",
    "    if y not in count_by_year:\n",
    "        count_by_year[y] = 0\n",
    "    \n",
    "    count_by_year[y] += 1\n",
    "    \n",
    "count_by_year    "
   ]
  },
  {
   "cell_type": "markdown",
   "id": "9f94f693",
   "metadata": {},
   "source": [
    "create years / observation count dataframe"
   ]
  },
  {
   "cell_type": "code",
   "execution_count": 25,
   "id": "ac66e1b9",
   "metadata": {},
   "outputs": [
    {
     "data": {
      "text/html": [
       "<div>\n",
       "<style scoped>\n",
       "    .dataframe tbody tr th:only-of-type {\n",
       "        vertical-align: middle;\n",
       "    }\n",
       "\n",
       "    .dataframe tbody tr th {\n",
       "        vertical-align: top;\n",
       "    }\n",
       "\n",
       "    .dataframe thead th {\n",
       "        text-align: right;\n",
       "    }\n",
       "</style>\n",
       "<table border=\"1\" class=\"dataframe\">\n",
       "  <thead>\n",
       "    <tr style=\"text-align: right;\">\n",
       "      <th></th>\n",
       "      <th>year</th>\n",
       "      <th>observ_count</th>\n",
       "    </tr>\n",
       "  </thead>\n",
       "  <tbody>\n",
       "    <tr>\n",
       "      <th>0</th>\n",
       "      <td>2020</td>\n",
       "      <td>240</td>\n",
       "    </tr>\n",
       "    <tr>\n",
       "      <th>1</th>\n",
       "      <td>2019</td>\n",
       "      <td>241</td>\n",
       "    </tr>\n",
       "    <tr>\n",
       "      <th>2</th>\n",
       "      <td>2018</td>\n",
       "      <td>242</td>\n",
       "    </tr>\n",
       "    <tr>\n",
       "      <th>3</th>\n",
       "      <td>2017</td>\n",
       "      <td>242</td>\n",
       "    </tr>\n",
       "    <tr>\n",
       "      <th>4</th>\n",
       "      <td>2016</td>\n",
       "      <td>242</td>\n",
       "    </tr>\n",
       "  </tbody>\n",
       "</table>\n",
       "</div>"
      ],
      "text/plain": [
       "   year  observ_count\n",
       "0  2020           240\n",
       "1  2019           241\n",
       "2  2018           242\n",
       "3  2017           242\n",
       "4  2016           242"
      ]
     },
     "execution_count": 25,
     "metadata": {},
     "output_type": "execute_result"
    }
   ],
   "source": [
    "yr_list = list(count_by_year.keys())\n",
    "cnt_list = list(count_by_year.values())\n",
    "\n",
    "yr_df = pd.DataFrame(list(zip(yr_list, cnt_list)), columns = ['year','observ_count'])\n",
    "yr_df.head()"
   ]
  },
  {
   "cell_type": "markdown",
   "id": "bcf902b2",
   "metadata": {},
   "source": [
    "8. In this question, you're going to create some plots to show the distribution of GDP per capita for the year 2020. Go to the Python Graph Gallery (https://www.python-graph-gallery.com/) and look at the different types of plots under the Distribution section. Create a histogram, a density plot, a boxplot, and a violin plot. What do you notice when you look at these plots? How do the plots compare and what information can you get out of one type that you can't necessarily get out of the others?"
   ]
  },
  {
   "cell_type": "markdown",
   "id": "e9c73fbc",
   "metadata": {},
   "source": [
    "Masking data to isolate 2020 date"
   ]
  },
  {
   "cell_type": "code",
   "execution_count": 26,
   "id": "17a3a6ce",
   "metadata": {},
   "outputs": [
    {
     "data": {
      "text/html": [
       "<div>\n",
       "<style scoped>\n",
       "    .dataframe tbody tr th:only-of-type {\n",
       "        vertical-align: middle;\n",
       "    }\n",
       "\n",
       "    .dataframe tbody tr th {\n",
       "        vertical-align: top;\n",
       "    }\n",
       "\n",
       "    .dataframe thead th {\n",
       "        text-align: right;\n",
       "    }\n",
       "</style>\n",
       "<table border=\"1\" class=\"dataframe\">\n",
       "  <thead>\n",
       "    <tr style=\"text-align: right;\">\n",
       "      <th></th>\n",
       "      <th>country</th>\n",
       "      <th>year</th>\n",
       "      <th>gdp_per_capita</th>\n",
       "    </tr>\n",
       "  </thead>\n",
       "  <tbody>\n",
       "    <tr>\n",
       "      <th>0</th>\n",
       "      <td>Afghanistan</td>\n",
       "      <td>2020</td>\n",
       "      <td>1970.560169</td>\n",
       "    </tr>\n",
       "    <tr>\n",
       "      <th>19</th>\n",
       "      <td>Africa Eastern and Southern</td>\n",
       "      <td>2020</td>\n",
       "      <td>3491.978104</td>\n",
       "    </tr>\n",
       "    <tr>\n",
       "      <th>50</th>\n",
       "      <td>Africa Western and Central</td>\n",
       "      <td>2020</td>\n",
       "      <td>4021.293919</td>\n",
       "    </tr>\n",
       "    <tr>\n",
       "      <th>81</th>\n",
       "      <td>Albania</td>\n",
       "      <td>2020</td>\n",
       "      <td>13253.733337</td>\n",
       "    </tr>\n",
       "    <tr>\n",
       "      <th>112</th>\n",
       "      <td>Algeria</td>\n",
       "      <td>2020</td>\n",
       "      <td>10735.382539</td>\n",
       "    </tr>\n",
       "  </tbody>\n",
       "</table>\n",
       "</div>"
      ],
      "text/plain": [
       "                         country  year  gdp_per_capita\n",
       "0                    Afghanistan  2020     1970.560169\n",
       "19   Africa Eastern and Southern  2020     3491.978104\n",
       "50    Africa Western and Central  2020     4021.293919\n",
       "81                       Albania  2020    13253.733337\n",
       "112                      Algeria  2020    10735.382539"
      ]
     },
     "execution_count": 26,
     "metadata": {},
     "output_type": "execute_result"
    }
   ],
   "source": [
    "gdp_2020 = gdp_df.loc[gdp_df['year'] == 2020]\n",
    "\n",
    "gdp_2020.head()"
   ]
  },
  {
   "cell_type": "markdown",
   "id": "a0e2eeea",
   "metadata": {},
   "source": [
    "Histogram - gdp_per_capita by country count"
   ]
  },
  {
   "cell_type": "code",
   "execution_count": 27,
   "id": "45f5014b",
   "metadata": {
    "scrolled": true
   },
   "outputs": [
    {
     "data": {
      "image/png": "[encoded data removed]",
      "text/plain": [
       "<Figure size 640x480 with 1 Axes>"
      ]
     },
     "metadata": {},
     "output_type": "display_data"
    }
   ],
   "source": [
    "sns.set(style = 'darkgrid')\n",
    "\n",
    "sns.histplot (data = gdp_2020, x = 'gdp_per_capita', bins = 20, kde = True)\n",
    "plt.ylabel('# of countries')\n",
    "plt.title ('2020 gdp range')\n",
    "plt.xlim(0, max(gdp_2020.gdp_per_capita))\n",
    "plt.show()"
   ]
  },
  {
   "cell_type": "markdown",
   "id": "83e78eeb",
   "metadata": {},
   "source": [
    "Density Plot"
   ]
  },
  {
   "cell_type": "code",
   "execution_count": 28,
   "id": "040eab78",
   "metadata": {},
   "outputs": [
    {
     "data": {
      "image/png": "[encoded data removed]",
      "text/plain": [
       "<Figure size 640x480 with 1 Axes>"
      ]
     },
     "metadata": {},
     "output_type": "display_data"
    }
   ],
   "source": [
    "sns.kdeplot(gdp_2020 ['gdp_per_capita'], shade = True)\n",
    "\n",
    "gdp_df.gdp_per_capita.max()\n",
    "plt.show()"
   ]
  },
  {
   "cell_type": "markdown",
   "id": "92cc9d83",
   "metadata": {},
   "source": [
    "Boxplot"
   ]
  },
  {
   "cell_type": "markdown",
   "id": "ef579703",
   "metadata": {},
   "source": [
    "Simple boxplot (pandas)"
   ]
  },
  {
   "cell_type": "code",
   "execution_count": 29,
   "id": "1f4c702c",
   "metadata": {
    "scrolled": true
   },
   "outputs": [
    {
     "data": {
      "image/png": "[encoded data removed]",
      "text/plain": [
       "<Figure size 640x480 with 1 Axes>"
      ]
     },
     "metadata": {},
     "output_type": "display_data"
    }
   ],
   "source": [
    "gdp_2020['gdp_per_capita'].plot(kind = 'box')\n",
    "plt.title('gdp_per_capita 2020')\n",
    "plt.show()"
   ]
  },
  {
   "cell_type": "code",
   "execution_count": 30,
   "id": "a0b3d6d5",
   "metadata": {},
   "outputs": [
    {
     "data": {
      "image/png": "[encoded data removed]",
      "text/plain": [
       "<Figure size 640x480 with 1 Axes>"
      ]
     },
     "metadata": {},
     "output_type": "display_data"
    }
   ],
   "source": [
    "sns.boxplot(y = gdp_2020['gdp_per_capita'])\n",
    "plt.title('gdp_per_capita 2020')\n",
    "plt.show()"
   ]
  },
  {
   "cell_type": "markdown",
   "id": "9e60249a",
   "metadata": {},
   "source": [
    "Violin"
   ]
  },
  {
   "cell_type": "code",
   "execution_count": 31,
   "id": "92847cb0",
   "metadata": {},
   "outputs": [
    {
     "data": {
      "text/plain": [
       "<AxesSubplot:xlabel='gdp_per_capita'>"
      ]
     },
     "execution_count": 31,
     "metadata": {},
     "output_type": "execute_result"
    },
    {
     "data": {
      "image/png": "[encoded data removed]",
      "text/plain": [
       "<Figure size 640x480 with 1 Axes>"
      ]
     },
     "metadata": {},
     "output_type": "display_data"
    }
   ],
   "source": [
    "sns.violinplot(x = gdp_2020['gdp_per_capita'])"
   ]
  },
  {
   "cell_type": "markdown",
   "id": "8e248bb9",
   "metadata": {},
   "source": [
    "9. What was the median GDP per capita value in 2020? **Answer** $12,909"
   ]
  },
  {
   "cell_type": "code",
   "execution_count": 32,
   "id": "957166d8",
   "metadata": {},
   "outputs": [
    {
     "data": {
      "text/plain": [
       "12909"
      ]
     },
     "execution_count": 32,
     "metadata": {},
     "output_type": "execute_result"
    }
   ],
   "source": [
    "round(gdp_2020.gdp_per_capita.median())"
   ]
  },
  {
   "cell_type": "markdown",
   "id": "9deecbdf",
   "metadata": {},
   "source": [
    "10. For this question, you're going to create some visualizations to compare GDP per capita values for the years 1990, 2000, 2010, and 2020. Start by subsetting your data to just these 4 years into a new DataFrame named gdp_decades. Using this, create the following 4 plots:\n",
    "\t* A boxplot\n",
    "\t* A barplot (check out the Barplot with Seaborn section: https://www.python-graph-gallery.com/barplot/#Seaborn)\n",
    "\t* A scatterplot\n",
    "\t* A scatterplot with a trend line overlaid (see this regplot example: https://www.python-graph-gallery.com/42-custom-linear-regression-fit-seaborn)  \n",
    "Comment on what you observe has happened to GDP values over time and the relative strengths and weaknesses of each type of plot."
   ]
  },
  {
   "cell_type": "markdown",
   "id": "3e5a2c74",
   "metadata": {},
   "source": [
    "10 **Answers**\n",
    "    \n",
    "The per_capita_gdp has gotten gradually higher over the years.\n",
    "\n",
    "The box plot doesn't allow for the years to be separated apart, though its easy for the eye to process, assuming it accurately represents the required data.\n",
    "\n",
    "The barplot is a very easy visualization of simple data.\n",
    "\n",
    "The scatterplot seems most useful with a trend line, or if the data were more diffuse over the years. I liked the way it looks with custom marks. "
   ]
  },
  {
   "cell_type": "markdown",
   "id": "73173669",
   "metadata": {},
   "source": [
    "Masking data"
   ]
  },
  {
   "cell_type": "code",
   "execution_count": 33,
   "id": "a7f3f43f",
   "metadata": {},
   "outputs": [],
   "source": [
    "gdp_decades = gdp_df.loc[(gdp_df['year'] == 1990) | (gdp_df['year'] == 2000) | (gdp_df['year'] == 2010) | (gdp_df['year'] == 2020)]"
   ]
  },
  {
   "cell_type": "markdown",
   "id": "c8d7f0d0",
   "metadata": {},
   "source": [
    "boxplot"
   ]
  },
  {
   "cell_type": "code",
   "execution_count": 34,
   "id": "d4775ceb",
   "metadata": {},
   "outputs": [
    {
     "data": {
      "image/png": "[encoded data removed]",
      "text/plain": [
       "<Figure size 640x480 with 1 Axes>"
      ]
     },
     "metadata": {},
     "output_type": "display_data"
    }
   ],
   "source": [
    "sns.boxplot(y = gdp_decades['gdp_per_capita'])\n",
    "plt.title('gdp_per_capita decades')\n",
    "plt.show()"
   ]
  },
  {
   "cell_type": "markdown",
   "id": "fe6c492a",
   "metadata": {},
   "source": [
    "barplot"
   ]
  },
  {
   "cell_type": "code",
   "execution_count": 35,
   "id": "567b517f",
   "metadata": {},
   "outputs": [
    {
     "data": {
      "image/png": "[encoded data removed]",
      "text/plain": [
       "<Figure size 640x480 with 1 Axes>"
      ]
     },
     "metadata": {},
     "output_type": "display_data"
    }
   ],
   "source": [
    "sns.barplot(x = 'year', y = 'gdp_per_capita', data = gdp_decades, ci = None)\n",
    "\n",
    "plt.title('per_capita_gdp over the decades')\n",
    "plt.show()"
   ]
  },
  {
   "cell_type": "markdown",
   "id": "fad6e515",
   "metadata": {},
   "source": [
    "scatterplot"
   ]
  },
  {
   "cell_type": "code",
   "execution_count": 36,
   "id": "025cd129",
   "metadata": {},
   "outputs": [
    {
     "data": {
      "image/png": "[encoded data removed]",
      "text/plain": [
       "<Figure size 640x480 with 1 Axes>"
      ]
     },
     "metadata": {},
     "output_type": "display_data"
    }
   ],
   "source": [
    "sns.regplot(x = gdp_decades['year'], y = gdp_decades['gdp_per_capita'], marker = '+', fit_reg = False)\n",
    "plt.xticks([1990, 2000, 2010, 2020])\n",
    "\n",
    "plt.show()"
   ]
  },
  {
   "cell_type": "markdown",
   "id": "fb3d3f18",
   "metadata": {},
   "source": [
    "scatterplot with trend line"
   ]
  },
  {
   "cell_type": "code",
   "execution_count": 37,
   "id": "b68c4bd6",
   "metadata": {
    "scrolled": false
   },
   "outputs": [
    {
     "data": {
      "image/png": "[encoded data removed]",
      "text/plain": [
       "<Figure size 640x480 with 1 Axes>"
      ]
     },
     "metadata": {},
     "output_type": "display_data"
    }
   ],
   "source": [
    "sns.regplot(x = gdp_decades['year'], y = gdp_decades['gdp_per_capita'], marker = '+', line_kws = {'color':'r', 'alpha':.5, 'lw':5})\n",
    "plt.xticks([1990, 2000, 2010, 2020])\n",
    "plt.title('per_capita_gdp over the decades')\n",
    "\n",
    "plt.show()"
   ]
  },
  {
   "cell_type": "markdown",
   "id": "ceb4873b",
   "metadata": {},
   "source": [
    "11. Which country was the first to have a GDP per capita greater than $100,000?\n",
    "\n",
    "In 1990 the UAE had a gpd of $111,454"
   ]
  },
  {
   "cell_type": "code",
   "execution_count": 38,
   "id": "c58aca02",
   "metadata": {},
   "outputs": [
    {
     "data": {
      "text/html": [
       "<div>\n",
       "<style scoped>\n",
       "    .dataframe tbody tr th:only-of-type {\n",
       "        vertical-align: middle;\n",
       "    }\n",
       "\n",
       "    .dataframe tbody tr th {\n",
       "        vertical-align: top;\n",
       "    }\n",
       "\n",
       "    .dataframe thead th {\n",
       "        text-align: right;\n",
       "    }\n",
       "</style>\n",
       "<table border=\"1\" class=\"dataframe\">\n",
       "  <thead>\n",
       "    <tr style=\"text-align: right;\">\n",
       "      <th></th>\n",
       "      <th>country</th>\n",
       "      <th>year</th>\n",
       "      <th>gdp_per_capita</th>\n",
       "    </tr>\n",
       "  </thead>\n",
       "  <tbody>\n",
       "    <tr>\n",
       "      <th>6838</th>\n",
       "      <td>United Arab Emirates</td>\n",
       "      <td>1990</td>\n",
       "      <td>111454.055665</td>\n",
       "    </tr>\n",
       "  </tbody>\n",
       "</table>\n",
       "</div>"
      ],
      "text/plain": [
       "                   country  year  gdp_per_capita\n",
       "6838  United Arab Emirates  1990   111454.055665"
      ]
     },
     "execution_count": 38,
     "metadata": {},
     "output_type": "execute_result"
    }
   ],
   "source": [
    "gdp_100k = gdp_df.loc[gdp_df.gdp_per_capita > 100000]\n",
    "gdp_100k.sort_values(by = 'year').head(1)"
   ]
  },
  {
   "cell_type": "markdown",
   "id": "f1c39396",
   "metadata": {},
   "source": [
    "12. Which country had the highest GDP per capita in 2020? Create a plot showing how this country's GDP per capita has changed over the timespan of the dataset."
   ]
  },
  {
   "cell_type": "markdown",
   "id": "a59c573c",
   "metadata": {},
   "source": [
    "**Answer** Luxembourg had the highest GDP in 2020 (112,557)"
   ]
  },
  {
   "cell_type": "code",
   "execution_count": 39,
   "id": "02568d84",
   "metadata": {},
   "outputs": [
    {
     "data": {
      "text/html": [
       "<div>\n",
       "<style scoped>\n",
       "    .dataframe tbody tr th:only-of-type {\n",
       "        vertical-align: middle;\n",
       "    }\n",
       "\n",
       "    .dataframe tbody tr th {\n",
       "        vertical-align: top;\n",
       "    }\n",
       "\n",
       "    .dataframe thead th {\n",
       "        text-align: right;\n",
       "    }\n",
       "</style>\n",
       "<table border=\"1\" class=\"dataframe\">\n",
       "  <thead>\n",
       "    <tr style=\"text-align: right;\">\n",
       "      <th></th>\n",
       "      <th>country</th>\n",
       "      <th>year</th>\n",
       "      <th>gdp_per_capita</th>\n",
       "    </tr>\n",
       "  </thead>\n",
       "  <tbody>\n",
       "    <tr>\n",
       "      <th>3882</th>\n",
       "      <td>Luxembourg</td>\n",
       "      <td>2020</td>\n",
       "      <td>112557.309472</td>\n",
       "    </tr>\n",
       "  </tbody>\n",
       "</table>\n",
       "</div>"
      ],
      "text/plain": [
       "         country  year  gdp_per_capita\n",
       "3882  Luxembourg  2020   112557.309472"
      ]
     },
     "execution_count": 39,
     "metadata": {},
     "output_type": "execute_result"
    }
   ],
   "source": [
    "gdp_2020.sort_values(by = 'gdp_per_capita', ascending = False).head(1)"
   ]
  },
  {
   "cell_type": "code",
   "execution_count": 40,
   "id": "89564bff",
   "metadata": {},
   "outputs": [],
   "source": [
    "lux_gdp = gdp_df.loc[gdp_df.country == 'Luxembourg']"
   ]
  },
  {
   "cell_type": "code",
   "execution_count": 41,
   "id": "5fd9e195",
   "metadata": {},
   "outputs": [
    {
     "data": {
      "image/png": "[encoded data removed]",
      "text/plain": [
       "<Figure size 640x480 with 1 Axes>"
      ]
     },
     "metadata": {},
     "output_type": "display_data"
    }
   ],
   "source": [
    "plt.plot('year','gdp_per_capita', data = lux_gdp)\n",
    "plt.ylabel('gdp')\n",
    "plt.title('Luxembourg GDP from 1990 to 2020')\n",
    "\n",
    "plt.show()"
   ]
  },
  {
   "cell_type": "markdown",
   "id": "5fea8127",
   "metadata": {},
   "source": [
    "13. Which country had the lowest GDP per capita in 2020? Create a plot showing how this country's GDP per capita has changed over the timespan of the dataset. **Bonus question:** Is it true in general that coutries had a higher GDP per capita in 2020 than in 1990? Which countries had lower GDP per capita in 2020 than in 1990?"
   ]
  },
  {
   "cell_type": "markdown",
   "id": "4f5d888c",
   "metadata": {},
   "source": [
    "Brundi had the lowest GDP in 2020 (731)."
   ]
  },
  {
   "cell_type": "code",
   "execution_count": 42,
   "id": "d9a95071",
   "metadata": {},
   "outputs": [
    {
     "data": {
      "text/html": [
       "<div>\n",
       "<style scoped>\n",
       "    .dataframe tbody tr th:only-of-type {\n",
       "        vertical-align: middle;\n",
       "    }\n",
       "\n",
       "    .dataframe tbody tr th {\n",
       "        vertical-align: top;\n",
       "    }\n",
       "\n",
       "    .dataframe thead th {\n",
       "        text-align: right;\n",
       "    }\n",
       "</style>\n",
       "<table border=\"1\" class=\"dataframe\">\n",
       "  <thead>\n",
       "    <tr style=\"text-align: right;\">\n",
       "      <th></th>\n",
       "      <th>country</th>\n",
       "      <th>year</th>\n",
       "      <th>gdp_per_capita</th>\n",
       "    </tr>\n",
       "  </thead>\n",
       "  <tbody>\n",
       "    <tr>\n",
       "      <th>914</th>\n",
       "      <td>Burundi</td>\n",
       "      <td>2020</td>\n",
       "      <td>731.064074</td>\n",
       "    </tr>\n",
       "  </tbody>\n",
       "</table>\n",
       "</div>"
      ],
      "text/plain": [
       "     country  year  gdp_per_capita\n",
       "914  Burundi  2020      731.064074"
      ]
     },
     "execution_count": 42,
     "metadata": {},
     "output_type": "execute_result"
    }
   ],
   "source": [
    "gdp_2020.sort_values(by = 'gdp_per_capita', ascending = True).head(1)"
   ]
  },
  {
   "cell_type": "code",
   "execution_count": 43,
   "id": "36aa785a",
   "metadata": {},
   "outputs": [],
   "source": [
    "burundi_gdp = gdp_df.loc[gdp_df.country == 'Burundi']"
   ]
  },
  {
   "cell_type": "code",
   "execution_count": 44,
   "id": "e846ef4a",
   "metadata": {},
   "outputs": [
    {
     "data": {
      "image/png": "[encoded data removed]",
      "text/plain": [
       "<Figure size 640x480 with 1 Axes>"
      ]
     },
     "metadata": {},
     "output_type": "display_data"
    }
   ],
   "source": [
    "plt.plot('year', 'gdp_per_capita', data = burundi_gdp)\n",
    "plt.ylabel('gdp_per_capita')\n",
    "plt.xlabel('year')\n",
    "plt.title('Burundi gdp_per_capita from 1990 to 2020')\n",
    "plt.xlim(1990, 2020)\n",
    "\n",
    "plt.show()"
   ]
  },
  {
   "cell_type": "markdown",
   "id": "a0f06021",
   "metadata": {},
   "source": [
    " 13. **Bonus question:** Is it true in general that coutries had a higher GDP per capita in 2020 than in 1990? Which countries had lower GDP per capita in 2020 than in 1990?"
   ]
  },
  {
   "cell_type": "markdown",
   "id": "c2845163",
   "metadata": {},
   "source": [
    "Create dataset for 1990 data"
   ]
  },
  {
   "cell_type": "code",
   "execution_count": 45,
   "id": "c2ec4d02",
   "metadata": {},
   "outputs": [],
   "source": [
    "gdp_1990 = gdp_df.loc[gdp_df.year == 1990]"
   ]
  },
  {
   "cell_type": "markdown",
   "id": "3c528661",
   "metadata": {},
   "source": [
    "pseudo-inner join to put 1990 and 2020 on the same line"
   ]
  },
  {
   "cell_type": "code",
   "execution_count": 46,
   "id": "3983e8e5",
   "metadata": {},
   "outputs": [
    {
     "data": {
      "text/html": [
       "<div>\n",
       "<style scoped>\n",
       "    .dataframe tbody tr th:only-of-type {\n",
       "        vertical-align: middle;\n",
       "    }\n",
       "\n",
       "    .dataframe tbody tr th {\n",
       "        vertical-align: top;\n",
       "    }\n",
       "\n",
       "    .dataframe thead th {\n",
       "        text-align: right;\n",
       "    }\n",
       "</style>\n",
       "<table border=\"1\" class=\"dataframe\">\n",
       "  <thead>\n",
       "    <tr style=\"text-align: right;\">\n",
       "      <th></th>\n",
       "      <th>country</th>\n",
       "      <th>year_x</th>\n",
       "      <th>gdp_per_capita_x</th>\n",
       "      <th>year_y</th>\n",
       "      <th>gdp_per_capita_y</th>\n",
       "    </tr>\n",
       "  </thead>\n",
       "  <tbody>\n",
       "    <tr>\n",
       "      <th>0</th>\n",
       "      <td>Africa Eastern and Southern</td>\n",
       "      <td>1990</td>\n",
       "      <td>3083.976800</td>\n",
       "      <td>2020</td>\n",
       "      <td>3491.978104</td>\n",
       "    </tr>\n",
       "    <tr>\n",
       "      <th>1</th>\n",
       "      <td>Africa Western and Central</td>\n",
       "      <td>1990</td>\n",
       "      <td>2810.341129</td>\n",
       "      <td>2020</td>\n",
       "      <td>4021.293919</td>\n",
       "    </tr>\n",
       "    <tr>\n",
       "      <th>2</th>\n",
       "      <td>Albania</td>\n",
       "      <td>1990</td>\n",
       "      <td>4827.034551</td>\n",
       "      <td>2020</td>\n",
       "      <td>13253.733337</td>\n",
       "    </tr>\n",
       "    <tr>\n",
       "      <th>3</th>\n",
       "      <td>Algeria</td>\n",
       "      <td>1990</td>\n",
       "      <td>8746.340762</td>\n",
       "      <td>2020</td>\n",
       "      <td>10735.382539</td>\n",
       "    </tr>\n",
       "    <tr>\n",
       "      <th>4</th>\n",
       "      <td>Angola</td>\n",
       "      <td>1990</td>\n",
       "      <td>5758.950488</td>\n",
       "      <td>2020</td>\n",
       "      <td>6141.963839</td>\n",
       "    </tr>\n",
       "  </tbody>\n",
       "</table>\n",
       "</div>"
      ],
      "text/plain": [
       "                       country  year_x  gdp_per_capita_x  year_y  \\\n",
       "0  Africa Eastern and Southern    1990       3083.976800    2020   \n",
       "1   Africa Western and Central    1990       2810.341129    2020   \n",
       "2                      Albania    1990       4827.034551    2020   \n",
       "3                      Algeria    1990       8746.340762    2020   \n",
       "4                       Angola    1990       5758.950488    2020   \n",
       "\n",
       "   gdp_per_capita_y  \n",
       "0       3491.978104  \n",
       "1       4021.293919  \n",
       "2      13253.733337  \n",
       "3      10735.382539  \n",
       "4       6141.963839  "
      ]
     },
     "execution_count": 46,
     "metadata": {},
     "output_type": "execute_result"
    }
   ],
   "source": [
    "gdp_9020 = pd.merge(gdp_1990, gdp_2020, left_on = 'country', right_on = 'country', how = 'inner')\n",
    "gdp_9020.head()"
   ]
  },
  {
   "cell_type": "code",
   "execution_count": 47,
   "id": "afc68bbf",
   "metadata": {},
   "outputs": [
    {
     "data": {
      "text/html": [
       "<div>\n",
       "<style scoped>\n",
       "    .dataframe tbody tr th:only-of-type {\n",
       "        vertical-align: middle;\n",
       "    }\n",
       "\n",
       "    .dataframe tbody tr th {\n",
       "        vertical-align: top;\n",
       "    }\n",
       "\n",
       "    .dataframe thead th {\n",
       "        text-align: right;\n",
       "    }\n",
       "</style>\n",
       "<table border=\"1\" class=\"dataframe\">\n",
       "  <thead>\n",
       "    <tr style=\"text-align: right;\">\n",
       "      <th></th>\n",
       "      <th>country</th>\n",
       "      <th>1990</th>\n",
       "      <th>1990_gdp</th>\n",
       "      <th>2020</th>\n",
       "      <th>2020_gdp</th>\n",
       "    </tr>\n",
       "  </thead>\n",
       "  <tbody>\n",
       "    <tr>\n",
       "      <th>0</th>\n",
       "      <td>Africa Eastern and Southern</td>\n",
       "      <td>1990</td>\n",
       "      <td>3083.976800</td>\n",
       "      <td>2020</td>\n",
       "      <td>3491.978104</td>\n",
       "    </tr>\n",
       "    <tr>\n",
       "      <th>1</th>\n",
       "      <td>Africa Western and Central</td>\n",
       "      <td>1990</td>\n",
       "      <td>2810.341129</td>\n",
       "      <td>2020</td>\n",
       "      <td>4021.293919</td>\n",
       "    </tr>\n",
       "    <tr>\n",
       "      <th>2</th>\n",
       "      <td>Albania</td>\n",
       "      <td>1990</td>\n",
       "      <td>4827.034551</td>\n",
       "      <td>2020</td>\n",
       "      <td>13253.733337</td>\n",
       "    </tr>\n",
       "    <tr>\n",
       "      <th>3</th>\n",
       "      <td>Algeria</td>\n",
       "      <td>1990</td>\n",
       "      <td>8746.340762</td>\n",
       "      <td>2020</td>\n",
       "      <td>10735.382539</td>\n",
       "    </tr>\n",
       "    <tr>\n",
       "      <th>4</th>\n",
       "      <td>Angola</td>\n",
       "      <td>1990</td>\n",
       "      <td>5758.950488</td>\n",
       "      <td>2020</td>\n",
       "      <td>6141.963839</td>\n",
       "    </tr>\n",
       "  </tbody>\n",
       "</table>\n",
       "</div>"
      ],
      "text/plain": [
       "                       country  1990     1990_gdp  2020      2020_gdp\n",
       "0  Africa Eastern and Southern  1990  3083.976800  2020   3491.978104\n",
       "1   Africa Western and Central  1990  2810.341129  2020   4021.293919\n",
       "2                      Albania  1990  4827.034551  2020  13253.733337\n",
       "3                      Algeria  1990  8746.340762  2020  10735.382539\n",
       "4                       Angola  1990  5758.950488  2020   6141.963839"
      ]
     },
     "execution_count": 47,
     "metadata": {},
     "output_type": "execute_result"
    }
   ],
   "source": [
    "gdp_9020.columns = ['country', '1990', '1990_gdp', '2020', '2020_gdp']\n",
    "gdp_9020.head()"
   ]
  },
  {
   "cell_type": "markdown",
   "id": "45132da0",
   "metadata": {},
   "source": [
    "add column to calculate 2020 - 1990 delta"
   ]
  },
  {
   "cell_type": "code",
   "execution_count": 48,
   "id": "bb21036b",
   "metadata": {},
   "outputs": [
    {
     "data": {
      "text/html": [
       "<div>\n",
       "<style scoped>\n",
       "    .dataframe tbody tr th:only-of-type {\n",
       "        vertical-align: middle;\n",
       "    }\n",
       "\n",
       "    .dataframe tbody tr th {\n",
       "        vertical-align: top;\n",
       "    }\n",
       "\n",
       "    .dataframe thead th {\n",
       "        text-align: right;\n",
       "    }\n",
       "</style>\n",
       "<table border=\"1\" class=\"dataframe\">\n",
       "  <thead>\n",
       "    <tr style=\"text-align: right;\">\n",
       "      <th></th>\n",
       "      <th>country</th>\n",
       "      <th>1990</th>\n",
       "      <th>1990_gdp</th>\n",
       "      <th>2020</th>\n",
       "      <th>2020_gdp</th>\n",
       "      <th>gdp_delta</th>\n",
       "    </tr>\n",
       "  </thead>\n",
       "  <tbody>\n",
       "    <tr>\n",
       "      <th>0</th>\n",
       "      <td>Africa Eastern and Southern</td>\n",
       "      <td>1990</td>\n",
       "      <td>3083.976800</td>\n",
       "      <td>2020</td>\n",
       "      <td>3491.978104</td>\n",
       "      <td>408.001305</td>\n",
       "    </tr>\n",
       "    <tr>\n",
       "      <th>1</th>\n",
       "      <td>Africa Western and Central</td>\n",
       "      <td>1990</td>\n",
       "      <td>2810.341129</td>\n",
       "      <td>2020</td>\n",
       "      <td>4021.293919</td>\n",
       "      <td>1210.952790</td>\n",
       "    </tr>\n",
       "    <tr>\n",
       "      <th>2</th>\n",
       "      <td>Albania</td>\n",
       "      <td>1990</td>\n",
       "      <td>4827.034551</td>\n",
       "      <td>2020</td>\n",
       "      <td>13253.733337</td>\n",
       "      <td>8426.698787</td>\n",
       "    </tr>\n",
       "    <tr>\n",
       "      <th>3</th>\n",
       "      <td>Algeria</td>\n",
       "      <td>1990</td>\n",
       "      <td>8746.340762</td>\n",
       "      <td>2020</td>\n",
       "      <td>10735.382539</td>\n",
       "      <td>1989.041777</td>\n",
       "    </tr>\n",
       "    <tr>\n",
       "      <th>4</th>\n",
       "      <td>Angola</td>\n",
       "      <td>1990</td>\n",
       "      <td>5758.950488</td>\n",
       "      <td>2020</td>\n",
       "      <td>6141.963839</td>\n",
       "      <td>383.013352</td>\n",
       "    </tr>\n",
       "  </tbody>\n",
       "</table>\n",
       "</div>"
      ],
      "text/plain": [
       "                       country  1990     1990_gdp  2020      2020_gdp  \\\n",
       "0  Africa Eastern and Southern  1990  3083.976800  2020   3491.978104   \n",
       "1   Africa Western and Central  1990  2810.341129  2020   4021.293919   \n",
       "2                      Albania  1990  4827.034551  2020  13253.733337   \n",
       "3                      Algeria  1990  8746.340762  2020  10735.382539   \n",
       "4                       Angola  1990  5758.950488  2020   6141.963839   \n",
       "\n",
       "     gdp_delta  \n",
       "0   408.001305  \n",
       "1  1210.952790  \n",
       "2  8426.698787  \n",
       "3  1989.041777  \n",
       "4   383.013352  "
      ]
     },
     "execution_count": 48,
     "metadata": {},
     "output_type": "execute_result"
    }
   ],
   "source": [
    "gdp_9020['gdp_delta'] = gdp_9020['2020_gdp'] - gdp_9020['1990_gdp']\n",
    "gdp_9020.head()"
   ]
  },
  {
   "cell_type": "code",
   "execution_count": 49,
   "id": "53b4e605",
   "metadata": {},
   "outputs": [
    {
     "data": {
      "text/html": [
       "<div>\n",
       "<style scoped>\n",
       "    .dataframe tbody tr th:only-of-type {\n",
       "        vertical-align: middle;\n",
       "    }\n",
       "\n",
       "    .dataframe tbody tr th {\n",
       "        vertical-align: top;\n",
       "    }\n",
       "\n",
       "    .dataframe thead th {\n",
       "        text-align: right;\n",
       "    }\n",
       "</style>\n",
       "<table border=\"1\" class=\"dataframe\">\n",
       "  <thead>\n",
       "    <tr style=\"text-align: right;\">\n",
       "      <th></th>\n",
       "      <th>country</th>\n",
       "      <th>1990</th>\n",
       "      <th>1990_gdp</th>\n",
       "      <th>2020</th>\n",
       "      <th>2020_gdp</th>\n",
       "      <th>gdp_delta</th>\n",
       "    </tr>\n",
       "  </thead>\n",
       "  <tbody>\n",
       "    <tr>\n",
       "      <th>9</th>\n",
       "      <td>Aruba</td>\n",
       "      <td>1990</td>\n",
       "      <td>32589.018572</td>\n",
       "      <td>2020</td>\n",
       "      <td>29563.756955</td>\n",
       "      <td>-3025.261617</td>\n",
       "    </tr>\n",
       "    <tr>\n",
       "      <th>15</th>\n",
       "      <td>Barbados</td>\n",
       "      <td>1990</td>\n",
       "      <td>13985.829980</td>\n",
       "      <td>2020</td>\n",
       "      <td>13316.487393</td>\n",
       "      <td>-669.342587</td>\n",
       "    </tr>\n",
       "    <tr>\n",
       "      <th>25</th>\n",
       "      <td>Brunei</td>\n",
       "      <td>1990</td>\n",
       "      <td>71232.789430</td>\n",
       "      <td>2020</td>\n",
       "      <td>62200.882043</td>\n",
       "      <td>-9031.907387</td>\n",
       "    </tr>\n",
       "    <tr>\n",
       "      <th>28</th>\n",
       "      <td>Burundi</td>\n",
       "      <td>1990</td>\n",
       "      <td>1184.842032</td>\n",
       "      <td>2020</td>\n",
       "      <td>731.064074</td>\n",
       "      <td>-453.777958</td>\n",
       "    </tr>\n",
       "    <tr>\n",
       "      <th>33</th>\n",
       "      <td>Central African Republic</td>\n",
       "      <td>1990</td>\n",
       "      <td>1201.674665</td>\n",
       "      <td>2020</td>\n",
       "      <td>937.856470</td>\n",
       "      <td>-263.818195</td>\n",
       "    </tr>\n",
       "  </tbody>\n",
       "</table>\n",
       "</div>"
      ],
      "text/plain": [
       "                     country  1990      1990_gdp  2020      2020_gdp  \\\n",
       "9                      Aruba  1990  32589.018572  2020  29563.756955   \n",
       "15                  Barbados  1990  13985.829980  2020  13316.487393   \n",
       "25                    Brunei  1990  71232.789430  2020  62200.882043   \n",
       "28                   Burundi  1990   1184.842032  2020    731.064074   \n",
       "33  Central African Republic  1990   1201.674665  2020    937.856470   \n",
       "\n",
       "      gdp_delta  \n",
       "9  -3025.261617  \n",
       "15  -669.342587  \n",
       "25 -9031.907387  \n",
       "28  -453.777958  \n",
       "33  -263.818195  "
      ]
     },
     "execution_count": 49,
     "metadata": {},
     "output_type": "execute_result"
    }
   ],
   "source": [
    "gdp_decline = gdp_9020.loc[gdp_9020.gdp_delta < 0]\n",
    "gdp_decline.head()"
   ]
  },
  {
   "cell_type": "markdown",
   "id": "292555d8",
   "metadata": {},
   "source": [
    "22 countries saw a decline in GDP from 1990 to 2020"
   ]
  },
  {
   "cell_type": "code",
   "execution_count": 50,
   "id": "b62132f9",
   "metadata": {},
   "outputs": [
    {
     "data": {
      "text/plain": [
       "(22, 6)"
      ]
     },
     "execution_count": 50,
     "metadata": {},
     "output_type": "execute_result"
    }
   ],
   "source": [
    "gdp_decline.shape"
   ]
  },
  {
   "cell_type": "markdown",
   "id": "8c601521",
   "metadata": {},
   "source": [
    "Which countries had lower GDP per capita in 2020 than in 1990?\n",
    "**Answer** countries with declining GDP"
   ]
  },
  {
   "cell_type": "code",
   "execution_count": 51,
   "id": "f8560a30",
   "metadata": {},
   "outputs": [
    {
     "data": {
      "text/plain": [
       "['Aruba',\n",
       " 'Barbados',\n",
       " 'Brunei',\n",
       " 'Burundi',\n",
       " 'Central African Republic',\n",
       " 'Comoros',\n",
       " 'Congo',\n",
       " 'Dem. Rep. Congo',\n",
       " 'Fragile and conflict affected situations',\n",
       " 'Gabon',\n",
       " 'Guinea-Bissau',\n",
       " 'Haiti',\n",
       " 'Kiribati',\n",
       " 'Kyrgyz Republic',\n",
       " 'Madagascar',\n",
       " 'Oman',\n",
       " 'Tajikistan',\n",
       " 'The Bahamas',\n",
       " 'The Gambia',\n",
       " 'Ukraine',\n",
       " 'United Arab Emirates',\n",
       " 'Zimbabwe']"
      ]
     },
     "execution_count": 51,
     "metadata": {},
     "output_type": "execute_result"
    }
   ],
   "source": [
    "declining_countries = gdp_decline.country.tolist()\n",
    "declining_countries"
   ]
  },
  {
   "cell_type": "markdown",
   "id": "8483be7d",
   "metadata": {},
   "source": [
    "Is it true in general that coutries had a higher GDP per capita in 2020 than in 1990?\n",
    "\n",
    "**Answer** Most countries had a higher gdp per capita in 2020 than in 1990.\n",
    "\n",
    "From 1990 to 2020 the average gdp increased by 7,030. The median gdp increased by 6,880. There are 242 countries/regions represented in the data and only 22 (<10%) saw a decline in gdp from 1990 to 2020. "
   ]
  },
  {
   "cell_type": "code",
   "execution_count": 52,
   "id": "5abf3b33",
   "metadata": {},
   "outputs": [
    {
     "data": {
      "text/plain": [
       "7030.940084531894"
      ]
     },
     "execution_count": 52,
     "metadata": {},
     "output_type": "execute_result"
    }
   ],
   "source": [
    "gdp_change = gdp_2020.gdp_per_capita.mean() - gdp_1990.gdp_per_capita.mean()\n",
    "gdp_change"
   ]
  },
  {
   "cell_type": "code",
   "execution_count": 53,
   "id": "6a94deed",
   "metadata": {},
   "outputs": [
    {
     "data": {
      "text/plain": [
       "6880.7926739122395"
      ]
     },
     "execution_count": 53,
     "metadata": {},
     "output_type": "execute_result"
    }
   ],
   "source": [
    "gdp_med_change = gdp_2020.gdp_per_capita.median() - gdp_1990.gdp_per_capita.median()\n",
    "gdp_med_change"
   ]
  },
  {
   "cell_type": "markdown",
   "id": "2115cdc7",
   "metadata": {},
   "source": [
    "14. Read in the internet use dataset into a DataFrame named `internet_df`. You will likely get errors when doing this. Check the arguments for the read_csv function to find ones that can help correct the errors (https://pandas.pydata.org/docs/reference/api/pandas.read_csv.html) Once you are able to read it in, take per a look at the top and bottom few rows to make sure that it has been read in correctly. Also, check the datatypes of the columns."
   ]
  },
  {
   "cell_type": "code",
   "execution_count": 54,
   "id": "4b760f15",
   "metadata": {},
   "outputs": [],
   "source": [
    "internet_df = pd.read_csv('../data/internet_use.csv', nrows = 4495)"
   ]
  },
  {
   "cell_type": "code",
   "execution_count": 55,
   "id": "9018674b",
   "metadata": {},
   "outputs": [
    {
     "data": {
      "text/html": [
       "<div>\n",
       "<style scoped>\n",
       "    .dataframe tbody tr th:only-of-type {\n",
       "        vertical-align: middle;\n",
       "    }\n",
       "\n",
       "    .dataframe tbody tr th {\n",
       "        vertical-align: top;\n",
       "    }\n",
       "\n",
       "    .dataframe thead th {\n",
       "        text-align: right;\n",
       "    }\n",
       "</style>\n",
       "<table border=\"1\" class=\"dataframe\">\n",
       "  <thead>\n",
       "    <tr style=\"text-align: right;\">\n",
       "      <th></th>\n",
       "      <th>Country or Area</th>\n",
       "      <th>Year</th>\n",
       "      <th>Value</th>\n",
       "      <th>Value Footnotes</th>\n",
       "    </tr>\n",
       "  </thead>\n",
       "  <tbody>\n",
       "    <tr>\n",
       "      <th>0</th>\n",
       "      <td>Afghanistan</td>\n",
       "      <td>2014</td>\n",
       "      <td>6.390000</td>\n",
       "      <td>NaN</td>\n",
       "    </tr>\n",
       "    <tr>\n",
       "      <th>1</th>\n",
       "      <td>Afghanistan</td>\n",
       "      <td>2013</td>\n",
       "      <td>5.900000</td>\n",
       "      <td>NaN</td>\n",
       "    </tr>\n",
       "    <tr>\n",
       "      <th>2</th>\n",
       "      <td>Afghanistan</td>\n",
       "      <td>2012</td>\n",
       "      <td>5.454545</td>\n",
       "      <td>NaN</td>\n",
       "    </tr>\n",
       "    <tr>\n",
       "      <th>3</th>\n",
       "      <td>Afghanistan</td>\n",
       "      <td>2011</td>\n",
       "      <td>5.000000</td>\n",
       "      <td>NaN</td>\n",
       "    </tr>\n",
       "    <tr>\n",
       "      <th>4</th>\n",
       "      <td>Afghanistan</td>\n",
       "      <td>2010</td>\n",
       "      <td>4.000000</td>\n",
       "      <td>NaN</td>\n",
       "    </tr>\n",
       "  </tbody>\n",
       "</table>\n",
       "</div>"
      ],
      "text/plain": [
       "  Country or Area  Year     Value  Value Footnotes\n",
       "0     Afghanistan  2014  6.390000              NaN\n",
       "1     Afghanistan  2013  5.900000              NaN\n",
       "2     Afghanistan  2012  5.454545              NaN\n",
       "3     Afghanistan  2011  5.000000              NaN\n",
       "4     Afghanistan  2010  4.000000              NaN"
      ]
     },
     "execution_count": 55,
     "metadata": {},
     "output_type": "execute_result"
    }
   ],
   "source": [
    "internet_df.head()"
   ]
  },
  {
   "cell_type": "code",
   "execution_count": 56,
   "id": "bc8423cc",
   "metadata": {},
   "outputs": [
    {
     "data": {
      "text/html": [
       "<div>\n",
       "<style scoped>\n",
       "    .dataframe tbody tr th:only-of-type {\n",
       "        vertical-align: middle;\n",
       "    }\n",
       "\n",
       "    .dataframe tbody tr th {\n",
       "        vertical-align: top;\n",
       "    }\n",
       "\n",
       "    .dataframe thead th {\n",
       "        text-align: right;\n",
       "    }\n",
       "</style>\n",
       "<table border=\"1\" class=\"dataframe\">\n",
       "  <thead>\n",
       "    <tr style=\"text-align: right;\">\n",
       "      <th></th>\n",
       "      <th>Country or Area</th>\n",
       "      <th>Year</th>\n",
       "      <th>Value</th>\n",
       "      <th>Value Footnotes</th>\n",
       "    </tr>\n",
       "  </thead>\n",
       "  <tbody>\n",
       "    <tr>\n",
       "      <th>4490</th>\n",
       "      <td>Zimbabwe</td>\n",
       "      <td>1997</td>\n",
       "      <td>0.033080</td>\n",
       "      <td>NaN</td>\n",
       "    </tr>\n",
       "    <tr>\n",
       "      <th>4491</th>\n",
       "      <td>Zimbabwe</td>\n",
       "      <td>1996</td>\n",
       "      <td>0.016790</td>\n",
       "      <td>NaN</td>\n",
       "    </tr>\n",
       "    <tr>\n",
       "      <th>4492</th>\n",
       "      <td>Zimbabwe</td>\n",
       "      <td>1995</td>\n",
       "      <td>0.007684</td>\n",
       "      <td>NaN</td>\n",
       "    </tr>\n",
       "    <tr>\n",
       "      <th>4493</th>\n",
       "      <td>Zimbabwe</td>\n",
       "      <td>1994</td>\n",
       "      <td>0.001739</td>\n",
       "      <td>NaN</td>\n",
       "    </tr>\n",
       "    <tr>\n",
       "      <th>4494</th>\n",
       "      <td>Zimbabwe</td>\n",
       "      <td>1990</td>\n",
       "      <td>0.000000</td>\n",
       "      <td>NaN</td>\n",
       "    </tr>\n",
       "  </tbody>\n",
       "</table>\n",
       "</div>"
      ],
      "text/plain": [
       "     Country or Area  Year     Value  Value Footnotes\n",
       "4490        Zimbabwe  1997  0.033080              NaN\n",
       "4491        Zimbabwe  1996  0.016790              NaN\n",
       "4492        Zimbabwe  1995  0.007684              NaN\n",
       "4493        Zimbabwe  1994  0.001739              NaN\n",
       "4494        Zimbabwe  1990  0.000000              NaN"
      ]
     },
     "execution_count": 56,
     "metadata": {},
     "output_type": "execute_result"
    }
   ],
   "source": [
    "internet_df.tail()"
   ]
  },
  {
   "cell_type": "code",
   "execution_count": 57,
   "id": "9b63f2c0",
   "metadata": {},
   "outputs": [
    {
     "data": {
      "text/plain": [
       "pandas.core.series.Series"
      ]
     },
     "execution_count": 57,
     "metadata": {},
     "output_type": "execute_result"
    }
   ],
   "source": [
    "type(internet_df['Country or Area'])"
   ]
  },
  {
   "cell_type": "code",
   "execution_count": 58,
   "id": "2917e1e7",
   "metadata": {},
   "outputs": [
    {
     "data": {
      "text/plain": [
       "pandas.core.series.Series"
      ]
     },
     "execution_count": 58,
     "metadata": {},
     "output_type": "execute_result"
    }
   ],
   "source": [
    "type(internet_df['Year'])"
   ]
  },
  {
   "cell_type": "code",
   "execution_count": 59,
   "id": "6939e196",
   "metadata": {},
   "outputs": [
    {
     "data": {
      "text/plain": [
       "pandas.core.series.Series"
      ]
     },
     "execution_count": 59,
     "metadata": {},
     "output_type": "execute_result"
    }
   ],
   "source": [
    "type(internet_df['Value'])"
   ]
  },
  {
   "cell_type": "code",
   "execution_count": 60,
   "id": "6727c877",
   "metadata": {},
   "outputs": [
    {
     "data": {
      "text/plain": [
       "pandas.core.series.Series"
      ]
     },
     "execution_count": 60,
     "metadata": {},
     "output_type": "execute_result"
    }
   ],
   "source": [
    "type(internet_df['Value Footnotes'])"
   ]
  },
  {
   "cell_type": "markdown",
   "id": "357244d5",
   "metadata": {},
   "source": [
    "15. Drop the `Value Footnotes` column and rename the remaining three to 'Country', 'Year', and 'Internet_Users_Pct'."
   ]
  },
  {
   "cell_type": "code",
   "execution_count": 61,
   "id": "911a435f",
   "metadata": {},
   "outputs": [],
   "source": [
    "internet_df = internet_df.drop(columns = ['Value Footnotes'])"
   ]
  },
  {
   "cell_type": "code",
   "execution_count": 62,
   "id": "ff56c82d",
   "metadata": {},
   "outputs": [
    {
     "data": {
      "text/plain": [
       "Index(['country', 'year', 'internet_users_pct'], dtype='object')"
      ]
     },
     "execution_count": 62,
     "metadata": {},
     "output_type": "execute_result"
    }
   ],
   "source": [
    "internet_df.columns = ['country', 'year','internet_users_pct']\n",
    "internet_df.columns"
   ]
  },
  {
   "cell_type": "markdown",
   "id": "06e41678",
   "metadata": {},
   "source": [
    "16. Look at the number of observations in this dataset per year. What do you notice?\n",
    "\n",
    "**Answer** There is a huge spike in observations in 1990, then a sudden decline, and gradual increase."
   ]
  },
  {
   "cell_type": "code",
   "execution_count": 63,
   "id": "2d694a81",
   "metadata": {},
   "outputs": [],
   "source": [
    "year_counts = internet_df.year.value_counts()\n",
    "year_counts = year_counts.to_frame()"
   ]
  },
  {
   "cell_type": "code",
   "execution_count": 64,
   "id": "8c3f78ba",
   "metadata": {},
   "outputs": [
    {
     "data": {
      "text/html": [
       "<div>\n",
       "<style scoped>\n",
       "    .dataframe tbody tr th:only-of-type {\n",
       "        vertical-align: middle;\n",
       "    }\n",
       "\n",
       "    .dataframe tbody tr th {\n",
       "        vertical-align: top;\n",
       "    }\n",
       "\n",
       "    .dataframe thead th {\n",
       "        text-align: right;\n",
       "    }\n",
       "</style>\n",
       "<table border=\"1\" class=\"dataframe\">\n",
       "  <thead>\n",
       "    <tr style=\"text-align: right;\">\n",
       "      <th></th>\n",
       "      <th>year</th>\n",
       "    </tr>\n",
       "  </thead>\n",
       "  <tbody>\n",
       "    <tr>\n",
       "      <th>1990</th>\n",
       "      <td>210</td>\n",
       "    </tr>\n",
       "    <tr>\n",
       "      <th>2011</th>\n",
       "      <td>207</td>\n",
       "    </tr>\n",
       "    <tr>\n",
       "      <th>2007</th>\n",
       "      <td>206</td>\n",
       "    </tr>\n",
       "    <tr>\n",
       "      <th>2008</th>\n",
       "      <td>204</td>\n",
       "    </tr>\n",
       "    <tr>\n",
       "      <th>2012</th>\n",
       "      <td>203</td>\n",
       "    </tr>\n",
       "  </tbody>\n",
       "</table>\n",
       "</div>"
      ],
      "text/plain": [
       "      year\n",
       "1990   210\n",
       "2011   207\n",
       "2007   206\n",
       "2008   204\n",
       "2012   203"
      ]
     },
     "execution_count": 64,
     "metadata": {},
     "output_type": "execute_result"
    }
   ],
   "source": [
    "year_counts.head()"
   ]
  },
  {
   "cell_type": "code",
   "execution_count": 65,
   "id": "b216a5b9",
   "metadata": {},
   "outputs": [],
   "source": [
    "year_counts = year_counts.reset_index()"
   ]
  },
  {
   "cell_type": "code",
   "execution_count": 66,
   "id": "df168ba3",
   "metadata": {},
   "outputs": [
    {
     "data": {
      "text/html": [
       "<div>\n",
       "<style scoped>\n",
       "    .dataframe tbody tr th:only-of-type {\n",
       "        vertical-align: middle;\n",
       "    }\n",
       "\n",
       "    .dataframe tbody tr th {\n",
       "        vertical-align: top;\n",
       "    }\n",
       "\n",
       "    .dataframe thead th {\n",
       "        text-align: right;\n",
       "    }\n",
       "</style>\n",
       "<table border=\"1\" class=\"dataframe\">\n",
       "  <thead>\n",
       "    <tr style=\"text-align: right;\">\n",
       "      <th></th>\n",
       "      <th>year</th>\n",
       "      <th>no_obs</th>\n",
       "    </tr>\n",
       "  </thead>\n",
       "  <tbody>\n",
       "    <tr>\n",
       "      <th>42</th>\n",
       "      <td>1960</td>\n",
       "      <td>7</td>\n",
       "    </tr>\n",
       "    <tr>\n",
       "      <th>27</th>\n",
       "      <td>1965</td>\n",
       "      <td>7</td>\n",
       "    </tr>\n",
       "    <tr>\n",
       "      <th>28</th>\n",
       "      <td>1970</td>\n",
       "      <td>7</td>\n",
       "    </tr>\n",
       "    <tr>\n",
       "      <th>29</th>\n",
       "      <td>1975</td>\n",
       "      <td>7</td>\n",
       "    </tr>\n",
       "    <tr>\n",
       "      <th>30</th>\n",
       "      <td>1976</td>\n",
       "      <td>7</td>\n",
       "    </tr>\n",
       "    <tr>\n",
       "      <th>31</th>\n",
       "      <td>1977</td>\n",
       "      <td>7</td>\n",
       "    </tr>\n",
       "    <tr>\n",
       "      <th>32</th>\n",
       "      <td>1978</td>\n",
       "      <td>7</td>\n",
       "    </tr>\n",
       "    <tr>\n",
       "      <th>33</th>\n",
       "      <td>1979</td>\n",
       "      <td>7</td>\n",
       "    </tr>\n",
       "    <tr>\n",
       "      <th>26</th>\n",
       "      <td>1980</td>\n",
       "      <td>7</td>\n",
       "    </tr>\n",
       "    <tr>\n",
       "      <th>35</th>\n",
       "      <td>1981</td>\n",
       "      <td>7</td>\n",
       "    </tr>\n",
       "    <tr>\n",
       "      <th>34</th>\n",
       "      <td>1982</td>\n",
       "      <td>7</td>\n",
       "    </tr>\n",
       "    <tr>\n",
       "      <th>36</th>\n",
       "      <td>1983</td>\n",
       "      <td>7</td>\n",
       "    </tr>\n",
       "    <tr>\n",
       "      <th>37</th>\n",
       "      <td>1984</td>\n",
       "      <td>7</td>\n",
       "    </tr>\n",
       "    <tr>\n",
       "      <th>38</th>\n",
       "      <td>1985</td>\n",
       "      <td>7</td>\n",
       "    </tr>\n",
       "    <tr>\n",
       "      <th>39</th>\n",
       "      <td>1986</td>\n",
       "      <td>7</td>\n",
       "    </tr>\n",
       "    <tr>\n",
       "      <th>40</th>\n",
       "      <td>1987</td>\n",
       "      <td>7</td>\n",
       "    </tr>\n",
       "    <tr>\n",
       "      <th>41</th>\n",
       "      <td>1988</td>\n",
       "      <td>7</td>\n",
       "    </tr>\n",
       "    <tr>\n",
       "      <th>25</th>\n",
       "      <td>1989</td>\n",
       "      <td>8</td>\n",
       "    </tr>\n",
       "    <tr>\n",
       "      <th>0</th>\n",
       "      <td>1990</td>\n",
       "      <td>210</td>\n",
       "    </tr>\n",
       "    <tr>\n",
       "      <th>24</th>\n",
       "      <td>1991</td>\n",
       "      <td>39</td>\n",
       "    </tr>\n",
       "    <tr>\n",
       "      <th>23</th>\n",
       "      <td>1992</td>\n",
       "      <td>50</td>\n",
       "    </tr>\n",
       "    <tr>\n",
       "      <th>22</th>\n",
       "      <td>1993</td>\n",
       "      <td>65</td>\n",
       "    </tr>\n",
       "    <tr>\n",
       "      <th>21</th>\n",
       "      <td>1994</td>\n",
       "      <td>91</td>\n",
       "    </tr>\n",
       "    <tr>\n",
       "      <th>20</th>\n",
       "      <td>1995</td>\n",
       "      <td>138</td>\n",
       "    </tr>\n",
       "    <tr>\n",
       "      <th>19</th>\n",
       "      <td>1996</td>\n",
       "      <td>175</td>\n",
       "    </tr>\n",
       "    <tr>\n",
       "      <th>18</th>\n",
       "      <td>1997</td>\n",
       "      <td>184</td>\n",
       "    </tr>\n",
       "    <tr>\n",
       "      <th>17</th>\n",
       "      <td>1998</td>\n",
       "      <td>190</td>\n",
       "    </tr>\n",
       "    <tr>\n",
       "      <th>15</th>\n",
       "      <td>1999</td>\n",
       "      <td>198</td>\n",
       "    </tr>\n",
       "    <tr>\n",
       "      <th>13</th>\n",
       "      <td>2000</td>\n",
       "      <td>199</td>\n",
       "    </tr>\n",
       "    <tr>\n",
       "      <th>11</th>\n",
       "      <td>2001</td>\n",
       "      <td>201</td>\n",
       "    </tr>\n",
       "    <tr>\n",
       "      <th>9</th>\n",
       "      <td>2002</td>\n",
       "      <td>202</td>\n",
       "    </tr>\n",
       "    <tr>\n",
       "      <th>16</th>\n",
       "      <td>2003</td>\n",
       "      <td>196</td>\n",
       "    </tr>\n",
       "    <tr>\n",
       "      <th>14</th>\n",
       "      <td>2004</td>\n",
       "      <td>199</td>\n",
       "    </tr>\n",
       "    <tr>\n",
       "      <th>10</th>\n",
       "      <td>2005</td>\n",
       "      <td>201</td>\n",
       "    </tr>\n",
       "    <tr>\n",
       "      <th>12</th>\n",
       "      <td>2006</td>\n",
       "      <td>200</td>\n",
       "    </tr>\n",
       "    <tr>\n",
       "      <th>2</th>\n",
       "      <td>2007</td>\n",
       "      <td>206</td>\n",
       "    </tr>\n",
       "    <tr>\n",
       "      <th>3</th>\n",
       "      <td>2008</td>\n",
       "      <td>204</td>\n",
       "    </tr>\n",
       "    <tr>\n",
       "      <th>6</th>\n",
       "      <td>2009</td>\n",
       "      <td>203</td>\n",
       "    </tr>\n",
       "    <tr>\n",
       "      <th>5</th>\n",
       "      <td>2010</td>\n",
       "      <td>203</td>\n",
       "    </tr>\n",
       "    <tr>\n",
       "      <th>1</th>\n",
       "      <td>2011</td>\n",
       "      <td>207</td>\n",
       "    </tr>\n",
       "    <tr>\n",
       "      <th>4</th>\n",
       "      <td>2012</td>\n",
       "      <td>203</td>\n",
       "    </tr>\n",
       "    <tr>\n",
       "      <th>8</th>\n",
       "      <td>2013</td>\n",
       "      <td>202</td>\n",
       "    </tr>\n",
       "    <tr>\n",
       "      <th>7</th>\n",
       "      <td>2014</td>\n",
       "      <td>202</td>\n",
       "    </tr>\n",
       "  </tbody>\n",
       "</table>\n",
       "</div>"
      ],
      "text/plain": [
       "    year  no_obs\n",
       "42  1960       7\n",
       "27  1965       7\n",
       "28  1970       7\n",
       "29  1975       7\n",
       "30  1976       7\n",
       "31  1977       7\n",
       "32  1978       7\n",
       "33  1979       7\n",
       "26  1980       7\n",
       "35  1981       7\n",
       "34  1982       7\n",
       "36  1983       7\n",
       "37  1984       7\n",
       "38  1985       7\n",
       "39  1986       7\n",
       "40  1987       7\n",
       "41  1988       7\n",
       "25  1989       8\n",
       "0   1990     210\n",
       "24  1991      39\n",
       "23  1992      50\n",
       "22  1993      65\n",
       "21  1994      91\n",
       "20  1995     138\n",
       "19  1996     175\n",
       "18  1997     184\n",
       "17  1998     190\n",
       "15  1999     198\n",
       "13  2000     199\n",
       "11  2001     201\n",
       "9   2002     202\n",
       "16  2003     196\n",
       "14  2004     199\n",
       "10  2005     201\n",
       "12  2006     200\n",
       "2   2007     206\n",
       "3   2008     204\n",
       "6   2009     203\n",
       "5   2010     203\n",
       "1   2011     207\n",
       "4   2012     203\n",
       "8   2013     202\n",
       "7   2014     202"
      ]
     },
     "execution_count": 66,
     "metadata": {},
     "output_type": "execute_result"
    }
   ],
   "source": [
    "year_counts.columns = ['year', 'no_obs']\n",
    "year_counts.sort_values(by = 'year')"
   ]
  },
  {
   "cell_type": "markdown",
   "id": "c95df964",
   "metadata": {},
   "source": [
    "17. What is the first year to have a non-zero internet users percentage value?\n",
    "**Answer** 1990 was the first year to have a non-zero value."
   ]
  },
  {
   "cell_type": "code",
   "execution_count": 67,
   "id": "3b7049b7",
   "metadata": {},
   "outputs": [],
   "source": [
    "internet_df.sort_values(by = 'year')\n",
    "non_zero = internet_df.loc[internet_df.internet_users_pct > 0]"
   ]
  },
  {
   "cell_type": "code",
   "execution_count": 68,
   "id": "a50693ad",
   "metadata": {},
   "outputs": [
    {
     "data": {
      "text/html": [
       "<div>\n",
       "<style scoped>\n",
       "    .dataframe tbody tr th:only-of-type {\n",
       "        vertical-align: middle;\n",
       "    }\n",
       "\n",
       "    .dataframe tbody tr th {\n",
       "        vertical-align: top;\n",
       "    }\n",
       "\n",
       "    .dataframe thead th {\n",
       "        text-align: right;\n",
       "    }\n",
       "</style>\n",
       "<table border=\"1\" class=\"dataframe\">\n",
       "  <thead>\n",
       "    <tr style=\"text-align: right;\">\n",
       "      <th></th>\n",
       "      <th>country</th>\n",
       "      <th>year</th>\n",
       "      <th>internet_users_pct</th>\n",
       "    </tr>\n",
       "  </thead>\n",
       "  <tbody>\n",
       "    <tr>\n",
       "      <th>2048</th>\n",
       "      <td>Italy</td>\n",
       "      <td>1990</td>\n",
       "      <td>0.017545</td>\n",
       "    </tr>\n",
       "    <tr>\n",
       "      <th>1107</th>\n",
       "      <td>Denmark</td>\n",
       "      <td>1990</td>\n",
       "      <td>0.097277</td>\n",
       "    </tr>\n",
       "    <tr>\n",
       "      <th>375</th>\n",
       "      <td>Belgium</td>\n",
       "      <td>1990</td>\n",
       "      <td>0.001007</td>\n",
       "    </tr>\n",
       "    <tr>\n",
       "      <th>1388</th>\n",
       "      <td>Finland</td>\n",
       "      <td>1990</td>\n",
       "      <td>0.401088</td>\n",
       "    </tr>\n",
       "    <tr>\n",
       "      <th>4301</th>\n",
       "      <td>United States</td>\n",
       "      <td>1990</td>\n",
       "      <td>0.784729</td>\n",
       "    </tr>\n",
       "    <tr>\n",
       "      <th>...</th>\n",
       "      <td>...</td>\n",
       "      <td>...</td>\n",
       "      <td>...</td>\n",
       "    </tr>\n",
       "    <tr>\n",
       "      <th>2175</th>\n",
       "      <td>Kiribati</td>\n",
       "      <td>2014</td>\n",
       "      <td>12.250000</td>\n",
       "    </tr>\n",
       "    <tr>\n",
       "      <th>848</th>\n",
       "      <td>Colombia</td>\n",
       "      <td>2014</td>\n",
       "      <td>52.570000</td>\n",
       "    </tr>\n",
       "    <tr>\n",
       "      <th>1299</th>\n",
       "      <td>Ethiopia</td>\n",
       "      <td>2014</td>\n",
       "      <td>2.900000</td>\n",
       "    </tr>\n",
       "    <tr>\n",
       "      <th>623</th>\n",
       "      <td>Burundi</td>\n",
       "      <td>2014</td>\n",
       "      <td>1.380000</td>\n",
       "    </tr>\n",
       "    <tr>\n",
       "      <th>0</th>\n",
       "      <td>Afghanistan</td>\n",
       "      <td>2014</td>\n",
       "      <td>6.390000</td>\n",
       "    </tr>\n",
       "  </tbody>\n",
       "</table>\n",
       "<p>4106 rows × 3 columns</p>\n",
       "</div>"
      ],
      "text/plain": [
       "            country  year  internet_users_pct\n",
       "2048          Italy  1990            0.017545\n",
       "1107        Denmark  1990            0.097277\n",
       "375         Belgium  1990            0.001007\n",
       "1388        Finland  1990            0.401088\n",
       "4301  United States  1990            0.784729\n",
       "...             ...   ...                 ...\n",
       "2175       Kiribati  2014           12.250000\n",
       "848        Colombia  2014           52.570000\n",
       "1299       Ethiopia  2014            2.900000\n",
       "623         Burundi  2014            1.380000\n",
       "0       Afghanistan  2014            6.390000\n",
       "\n",
       "[4106 rows x 3 columns]"
      ]
     },
     "execution_count": 68,
     "metadata": {},
     "output_type": "execute_result"
    }
   ],
   "source": [
    "non_zero.sort_values(by = 'year')"
   ]
  },
  {
   "cell_type": "markdown",
   "id": "9316cd0a",
   "metadata": {},
   "source": [
    "18. How does the distribution of internet users percent differ for 2000 and 2014?\n",
    "\n",
    "**Answer** See boxplot. In 2000, the majority of the world had <20% internet users. In 2014, the majority had >20% internet users."
   ]
  },
  {
   "cell_type": "code",
   "execution_count": 69,
   "id": "3a2e6d6c",
   "metadata": {},
   "outputs": [],
   "source": [
    "net_00 = internet_df.loc[internet_df.year == 2000]\n",
    "net_14 = internet_df.loc[internet_df.year == 2014]"
   ]
  },
  {
   "cell_type": "code",
   "execution_count": 70,
   "id": "9a249b22",
   "metadata": {},
   "outputs": [
    {
     "data": {
      "text/html": [
       "<div>\n",
       "<style scoped>\n",
       "    .dataframe tbody tr th:only-of-type {\n",
       "        vertical-align: middle;\n",
       "    }\n",
       "\n",
       "    .dataframe tbody tr th {\n",
       "        vertical-align: top;\n",
       "    }\n",
       "\n",
       "    .dataframe thead th {\n",
       "        text-align: right;\n",
       "    }\n",
       "</style>\n",
       "<table border=\"1\" class=\"dataframe\">\n",
       "  <thead>\n",
       "    <tr style=\"text-align: right;\">\n",
       "      <th></th>\n",
       "      <th>country</th>\n",
       "      <th>2000</th>\n",
       "      <th>2000_users_pct</th>\n",
       "      <th>2014</th>\n",
       "      <th>2014_users_pct</th>\n",
       "    </tr>\n",
       "  </thead>\n",
       "  <tbody>\n",
       "    <tr>\n",
       "      <th>0</th>\n",
       "      <td>Albania</td>\n",
       "      <td>2000</td>\n",
       "      <td>0.114097</td>\n",
       "      <td>2014</td>\n",
       "      <td>60.10</td>\n",
       "    </tr>\n",
       "    <tr>\n",
       "      <th>1</th>\n",
       "      <td>Algeria</td>\n",
       "      <td>2000</td>\n",
       "      <td>0.491706</td>\n",
       "      <td>2014</td>\n",
       "      <td>18.09</td>\n",
       "    </tr>\n",
       "    <tr>\n",
       "      <th>2</th>\n",
       "      <td>Andorra</td>\n",
       "      <td>2000</td>\n",
       "      <td>10.538836</td>\n",
       "      <td>2014</td>\n",
       "      <td>95.90</td>\n",
       "    </tr>\n",
       "    <tr>\n",
       "      <th>3</th>\n",
       "      <td>Angola</td>\n",
       "      <td>2000</td>\n",
       "      <td>0.105046</td>\n",
       "      <td>2014</td>\n",
       "      <td>21.26</td>\n",
       "    </tr>\n",
       "    <tr>\n",
       "      <th>4</th>\n",
       "      <td>Antigua and Barbuda</td>\n",
       "      <td>2000</td>\n",
       "      <td>6.482226</td>\n",
       "      <td>2014</td>\n",
       "      <td>64.00</td>\n",
       "    </tr>\n",
       "    <tr>\n",
       "      <th>...</th>\n",
       "      <td>...</td>\n",
       "      <td>...</td>\n",
       "      <td>...</td>\n",
       "      <td>...</td>\n",
       "      <td>...</td>\n",
       "    </tr>\n",
       "    <tr>\n",
       "      <th>188</th>\n",
       "      <td>Viet Nam</td>\n",
       "      <td>2000</td>\n",
       "      <td>0.254248</td>\n",
       "      <td>2014</td>\n",
       "      <td>48.31</td>\n",
       "    </tr>\n",
       "    <tr>\n",
       "      <th>189</th>\n",
       "      <td>Virgin Islands (U.S.)</td>\n",
       "      <td>2000</td>\n",
       "      <td>13.815081</td>\n",
       "      <td>2014</td>\n",
       "      <td>50.07</td>\n",
       "    </tr>\n",
       "    <tr>\n",
       "      <th>190</th>\n",
       "      <td>Yemen</td>\n",
       "      <td>2000</td>\n",
       "      <td>0.082500</td>\n",
       "      <td>2014</td>\n",
       "      <td>22.55</td>\n",
       "    </tr>\n",
       "    <tr>\n",
       "      <th>191</th>\n",
       "      <td>Zambia</td>\n",
       "      <td>2000</td>\n",
       "      <td>0.191072</td>\n",
       "      <td>2014</td>\n",
       "      <td>17.34</td>\n",
       "    </tr>\n",
       "    <tr>\n",
       "      <th>192</th>\n",
       "      <td>Zimbabwe</td>\n",
       "      <td>2000</td>\n",
       "      <td>0.401434</td>\n",
       "      <td>2014</td>\n",
       "      <td>19.89</td>\n",
       "    </tr>\n",
       "  </tbody>\n",
       "</table>\n",
       "<p>193 rows × 5 columns</p>\n",
       "</div>"
      ],
      "text/plain": [
       "                   country  2000  2000_users_pct  2014  2014_users_pct\n",
       "0                  Albania  2000        0.114097  2014           60.10\n",
       "1                  Algeria  2000        0.491706  2014           18.09\n",
       "2                  Andorra  2000       10.538836  2014           95.90\n",
       "3                   Angola  2000        0.105046  2014           21.26\n",
       "4      Antigua and Barbuda  2000        6.482226  2014           64.00\n",
       "..                     ...   ...             ...   ...             ...\n",
       "188               Viet Nam  2000        0.254248  2014           48.31\n",
       "189  Virgin Islands (U.S.)  2000       13.815081  2014           50.07\n",
       "190                  Yemen  2000        0.082500  2014           22.55\n",
       "191                 Zambia  2000        0.191072  2014           17.34\n",
       "192               Zimbabwe  2000        0.401434  2014           19.89\n",
       "\n",
       "[193 rows x 5 columns]"
      ]
     },
     "execution_count": 70,
     "metadata": {},
     "output_type": "execute_result"
    }
   ],
   "source": [
    "net_comp = pd.merge(net_00, net_14, left_on = 'country', right_on = 'country', how = 'inner')\n",
    "net_comp.columns = ['country', '2000','2000_users_pct', '2014', '2014_users_pct']\n",
    "net_comp"
   ]
  },
  {
   "cell_type": "code",
   "execution_count": 71,
   "id": "1b398ae1",
   "metadata": {},
   "outputs": [
    {
     "data": {
      "text/html": [
       "<div>\n",
       "<style scoped>\n",
       "    .dataframe tbody tr th:only-of-type {\n",
       "        vertical-align: middle;\n",
       "    }\n",
       "\n",
       "    .dataframe tbody tr th {\n",
       "        vertical-align: top;\n",
       "    }\n",
       "\n",
       "    .dataframe thead th {\n",
       "        text-align: right;\n",
       "    }\n",
       "</style>\n",
       "<table border=\"1\" class=\"dataframe\">\n",
       "  <thead>\n",
       "    <tr style=\"text-align: right;\">\n",
       "      <th></th>\n",
       "      <th>country</th>\n",
       "      <th>year</th>\n",
       "      <th>internet_users_pct</th>\n",
       "    </tr>\n",
       "  </thead>\n",
       "  <tbody>\n",
       "    <tr>\n",
       "      <th>0</th>\n",
       "      <td>Afghanistan</td>\n",
       "      <td>2014</td>\n",
       "      <td>6.390000</td>\n",
       "    </tr>\n",
       "    <tr>\n",
       "      <th>15</th>\n",
       "      <td>Albania</td>\n",
       "      <td>2014</td>\n",
       "      <td>60.100000</td>\n",
       "    </tr>\n",
       "    <tr>\n",
       "      <th>29</th>\n",
       "      <td>Albania</td>\n",
       "      <td>2000</td>\n",
       "      <td>0.114097</td>\n",
       "    </tr>\n",
       "    <tr>\n",
       "      <th>36</th>\n",
       "      <td>Algeria</td>\n",
       "      <td>2014</td>\n",
       "      <td>18.090000</td>\n",
       "    </tr>\n",
       "    <tr>\n",
       "      <th>50</th>\n",
       "      <td>Algeria</td>\n",
       "      <td>2000</td>\n",
       "      <td>0.491706</td>\n",
       "    </tr>\n",
       "  </tbody>\n",
       "</table>\n",
       "</div>"
      ],
      "text/plain": [
       "        country  year  internet_users_pct\n",
       "0   Afghanistan  2014            6.390000\n",
       "15      Albania  2014           60.100000\n",
       "29      Albania  2000            0.114097\n",
       "36      Algeria  2014           18.090000\n",
       "50      Algeria  2000            0.491706"
      ]
     },
     "execution_count": 71,
     "metadata": {},
     "output_type": "execute_result"
    }
   ],
   "source": [
    "yr_comp = internet_df.loc[(internet_df.year == 2000) | (internet_df.year == 2014)]\n",
    "yr_comp.head()"
   ]
  },
  {
   "cell_type": "code",
   "execution_count": 72,
   "id": "55438039",
   "metadata": {},
   "outputs": [
    {
     "data": {
      "image/png": "[encoded data removed]",
      "text/plain": [
       "<Figure size 640x480 with 1 Axes>"
      ]
     },
     "metadata": {},
     "output_type": "display_data"
    }
   ],
   "source": [
    "sns.boxplot (x = yr_comp['year'], y = yr_comp['internet_users_pct'])\n",
    "plt.title('internet use change 2000 - 2014')\n",
    "plt.show()"
   ]
  },
  {
   "cell_type": "markdown",
   "id": "8b609b4c",
   "metadata": {},
   "source": [
    "19. For how many countries was the percentage of internet users below 5% in 2014?\n",
    "**Answer** 16"
   ]
  },
  {
   "cell_type": "code",
   "execution_count": 73,
   "id": "f9f9ae4a",
   "metadata": {},
   "outputs": [
    {
     "data": {
      "text/plain": [
       "(16, 3)"
      ]
     },
     "execution_count": 73,
     "metadata": {},
     "output_type": "execute_result"
    }
   ],
   "source": [
    "net_14_5 = net_14.loc[net_14.internet_users_pct < 5]\n",
    "net_14_5.shape"
   ]
  },
  {
   "cell_type": "markdown",
   "id": "8e5fbea1",
   "metadata": {},
   "source": [
    "20. Merge the two DataFrames to one. Do this in a way that keeps **all rows** from each of the two DataFrames. Call the new DataFrame `gdp_and_internet_use`. Look at the first and last few rows to confirm that it merged correctly."
   ]
  },
  {
   "cell_type": "code",
   "execution_count": 74,
   "id": "2270bcfc",
   "metadata": {},
   "outputs": [
    {
     "data": {
      "text/html": [
       "<div>\n",
       "<style scoped>\n",
       "    .dataframe tbody tr th:only-of-type {\n",
       "        vertical-align: middle;\n",
       "    }\n",
       "\n",
       "    .dataframe tbody tr th {\n",
       "        vertical-align: top;\n",
       "    }\n",
       "\n",
       "    .dataframe thead th {\n",
       "        text-align: right;\n",
       "    }\n",
       "</style>\n",
       "<table border=\"1\" class=\"dataframe\">\n",
       "  <thead>\n",
       "    <tr style=\"text-align: right;\">\n",
       "      <th></th>\n",
       "      <th>country</th>\n",
       "      <th>year</th>\n",
       "      <th>internet_users_pct</th>\n",
       "    </tr>\n",
       "  </thead>\n",
       "  <tbody>\n",
       "    <tr>\n",
       "      <th>1663</th>\n",
       "      <td>Grenada</td>\n",
       "      <td>1960</td>\n",
       "      <td>0.0</td>\n",
       "    </tr>\n",
       "    <tr>\n",
       "      <th>665</th>\n",
       "      <td>Burundi</td>\n",
       "      <td>1960</td>\n",
       "      <td>0.0</td>\n",
       "    </tr>\n",
       "    <tr>\n",
       "      <th>3917</th>\n",
       "      <td>Syria</td>\n",
       "      <td>1960</td>\n",
       "      <td>0.0</td>\n",
       "    </tr>\n",
       "    <tr>\n",
       "      <th>2558</th>\n",
       "      <td>Maldives</td>\n",
       "      <td>1960</td>\n",
       "      <td>0.0</td>\n",
       "    </tr>\n",
       "    <tr>\n",
       "      <th>4018</th>\n",
       "      <td>Thailand</td>\n",
       "      <td>1960</td>\n",
       "      <td>0.0</td>\n",
       "    </tr>\n",
       "  </tbody>\n",
       "</table>\n",
       "</div>"
      ],
      "text/plain": [
       "       country  year  internet_users_pct\n",
       "1663   Grenada  1960                 0.0\n",
       "665    Burundi  1960                 0.0\n",
       "3917     Syria  1960                 0.0\n",
       "2558  Maldives  1960                 0.0\n",
       "4018  Thailand  1960                 0.0"
      ]
     },
     "execution_count": 74,
     "metadata": {},
     "output_type": "execute_result"
    }
   ],
   "source": [
    "gdp_df = gdp_df.sort_values(by = 'year', ascending = True)\n",
    "internet_df = internet_df.sort_values(by = 'year', ascending = True)\n",
    "internet_df.head()"
   ]
  },
  {
   "cell_type": "code",
   "execution_count": 75,
   "id": "ace0e5ea",
   "metadata": {},
   "outputs": [
    {
     "name": "stdout",
     "output_type": "stream",
     "text": [
      "(7176, 3)\n",
      "(4495, 3)\n"
     ]
    }
   ],
   "source": [
    "print(gdp_df.shape)\n",
    "print(internet_df.shape)"
   ]
  },
  {
   "cell_type": "code",
   "execution_count": 76,
   "id": "401e040e",
   "metadata": {},
   "outputs": [],
   "source": [
    "gdp_df['data_type'] = 'gdp'\n",
    "internet_df['data_type'] = 'net'"
   ]
  },
  {
   "cell_type": "code",
   "execution_count": 77,
   "id": "e215918b",
   "metadata": {},
   "outputs": [
    {
     "name": "stdout",
     "output_type": "stream",
     "text": [
      "Index(['country', 'year', 'gdp_per_capita', 'data_type'], dtype='object')\n",
      "Index(['country', 'year', 'internet_users_pct', 'data_type'], dtype='object')\n"
     ]
    }
   ],
   "source": [
    "print(gdp_df.columns)\n",
    "print(internet_df.columns)"
   ]
  },
  {
   "cell_type": "code",
   "execution_count": 78,
   "id": "25eaf2f1",
   "metadata": {},
   "outputs": [],
   "source": [
    "gdp_and_internet_use = pd.concat([gdp_df, internet_df])"
   ]
  },
  {
   "cell_type": "code",
   "execution_count": 79,
   "id": "7742908d",
   "metadata": {},
   "outputs": [
    {
     "data": {
      "text/plain": [
       "(11671, 5)"
      ]
     },
     "execution_count": 79,
     "metadata": {},
     "output_type": "execute_result"
    }
   ],
   "source": [
    "gdp_and_internet_use.shape"
   ]
  },
  {
   "cell_type": "code",
   "execution_count": 80,
   "id": "af735c1b",
   "metadata": {},
   "outputs": [
    {
     "data": {
      "text/html": [
       "<div>\n",
       "<style scoped>\n",
       "    .dataframe tbody tr th:only-of-type {\n",
       "        vertical-align: middle;\n",
       "    }\n",
       "\n",
       "    .dataframe tbody tr th {\n",
       "        vertical-align: top;\n",
       "    }\n",
       "\n",
       "    .dataframe thead th {\n",
       "        text-align: right;\n",
       "    }\n",
       "</style>\n",
       "<table border=\"1\" class=\"dataframe\">\n",
       "  <thead>\n",
       "    <tr style=\"text-align: right;\">\n",
       "      <th></th>\n",
       "      <th>country</th>\n",
       "      <th>year</th>\n",
       "      <th>gdp_per_capita</th>\n",
       "      <th>data_type</th>\n",
       "      <th>internet_users_pct</th>\n",
       "    </tr>\n",
       "  </thead>\n",
       "  <tbody>\n",
       "    <tr>\n",
       "      <th>7175</th>\n",
       "      <td>Zimbabwe</td>\n",
       "      <td>1990</td>\n",
       "      <td>2652.129209</td>\n",
       "      <td>gdp</td>\n",
       "      <td>NaN</td>\n",
       "    </tr>\n",
       "    <tr>\n",
       "      <th>5688</th>\n",
       "      <td>Seychelles</td>\n",
       "      <td>1990</td>\n",
       "      <td>14884.887776</td>\n",
       "      <td>gdp</td>\n",
       "      <td>NaN</td>\n",
       "    </tr>\n",
       "    <tr>\n",
       "      <th>4279</th>\n",
       "      <td>Micronesia</td>\n",
       "      <td>1990</td>\n",
       "      <td>2995.141814</td>\n",
       "      <td>gdp</td>\n",
       "      <td>NaN</td>\n",
       "    </tr>\n",
       "    <tr>\n",
       "      <th>1065</th>\n",
       "      <td>Cameroon</td>\n",
       "      <td>1990</td>\n",
       "      <td>3379.825673</td>\n",
       "      <td>gdp</td>\n",
       "      <td>NaN</td>\n",
       "    </tr>\n",
       "    <tr>\n",
       "      <th>3688</th>\n",
       "      <td>Lebanon</td>\n",
       "      <td>1990</td>\n",
       "      <td>7507.587177</td>\n",
       "      <td>gdp</td>\n",
       "      <td>NaN</td>\n",
       "    </tr>\n",
       "  </tbody>\n",
       "</table>\n",
       "</div>"
      ],
      "text/plain": [
       "         country  year  gdp_per_capita data_type  internet_users_pct\n",
       "7175    Zimbabwe  1990     2652.129209       gdp                 NaN\n",
       "5688  Seychelles  1990    14884.887776       gdp                 NaN\n",
       "4279  Micronesia  1990     2995.141814       gdp                 NaN\n",
       "1065    Cameroon  1990     3379.825673       gdp                 NaN\n",
       "3688     Lebanon  1990     7507.587177       gdp                 NaN"
      ]
     },
     "execution_count": 80,
     "metadata": {},
     "output_type": "execute_result"
    }
   ],
   "source": [
    "gdp_and_internet_use.head()"
   ]
  },
  {
   "cell_type": "code",
   "execution_count": 81,
   "id": "80d937b8",
   "metadata": {},
   "outputs": [
    {
     "data": {
      "text/html": [
       "<div>\n",
       "<style scoped>\n",
       "    .dataframe tbody tr th:only-of-type {\n",
       "        vertical-align: middle;\n",
       "    }\n",
       "\n",
       "    .dataframe tbody tr th {\n",
       "        vertical-align: top;\n",
       "    }\n",
       "\n",
       "    .dataframe thead th {\n",
       "        text-align: right;\n",
       "    }\n",
       "</style>\n",
       "<table border=\"1\" class=\"dataframe\">\n",
       "  <thead>\n",
       "    <tr style=\"text-align: right;\">\n",
       "      <th></th>\n",
       "      <th>country</th>\n",
       "      <th>year</th>\n",
       "      <th>gdp_per_capita</th>\n",
       "      <th>data_type</th>\n",
       "      <th>internet_users_pct</th>\n",
       "    </tr>\n",
       "  </thead>\n",
       "  <tbody>\n",
       "    <tr>\n",
       "      <th>929</th>\n",
       "      <td>Costa Rica</td>\n",
       "      <td>2014</td>\n",
       "      <td>NaN</td>\n",
       "      <td>net</td>\n",
       "      <td>49.41</td>\n",
       "    </tr>\n",
       "    <tr>\n",
       "      <th>2642</th>\n",
       "      <td>Mauritius</td>\n",
       "      <td>2014</td>\n",
       "      <td>NaN</td>\n",
       "      <td>net</td>\n",
       "      <td>41.44</td>\n",
       "    </tr>\n",
       "    <tr>\n",
       "      <th>953</th>\n",
       "      <td>Cote d'Ivoire</td>\n",
       "      <td>2014</td>\n",
       "      <td>NaN</td>\n",
       "      <td>net</td>\n",
       "      <td>14.60</td>\n",
       "    </tr>\n",
       "    <tr>\n",
       "      <th>3366</th>\n",
       "      <td>Saint Kitts and Nevis</td>\n",
       "      <td>2014</td>\n",
       "      <td>NaN</td>\n",
       "      <td>net</td>\n",
       "      <td>65.40</td>\n",
       "    </tr>\n",
       "    <tr>\n",
       "      <th>0</th>\n",
       "      <td>Afghanistan</td>\n",
       "      <td>2014</td>\n",
       "      <td>NaN</td>\n",
       "      <td>net</td>\n",
       "      <td>6.39</td>\n",
       "    </tr>\n",
       "  </tbody>\n",
       "</table>\n",
       "</div>"
      ],
      "text/plain": [
       "                    country  year  gdp_per_capita data_type  \\\n",
       "929              Costa Rica  2014             NaN       net   \n",
       "2642              Mauritius  2014             NaN       net   \n",
       "953           Cote d'Ivoire  2014             NaN       net   \n",
       "3366  Saint Kitts and Nevis  2014             NaN       net   \n",
       "0               Afghanistan  2014             NaN       net   \n",
       "\n",
       "      internet_users_pct  \n",
       "929                49.41  \n",
       "2642               41.44  \n",
       "953                14.60  \n",
       "3366               65.40  \n",
       "0                   6.39  "
      ]
     },
     "execution_count": 81,
     "metadata": {},
     "output_type": "execute_result"
    }
   ],
   "source": [
    "gdp_and_internet_use.tail()"
   ]
  },
  {
   "cell_type": "markdown",
   "id": "8763a574",
   "metadata": {},
   "source": [
    "21. Find the three countries with the highest internet users percentage in 2014. Use a seaborn FacetGrid (https://seaborn.pydata.org/generated/seaborn.FacetGrid.html) to compare how the GDP per capita has changed over time for these three countries. What do you notice?"
   ]
  },
  {
   "cell_type": "code",
   "execution_count": 82,
   "id": "a88834ad",
   "metadata": {},
   "outputs": [
    {
     "data": {
      "text/html": [
       "<div>\n",
       "<style scoped>\n",
       "    .dataframe tbody tr th:only-of-type {\n",
       "        vertical-align: middle;\n",
       "    }\n",
       "\n",
       "    .dataframe tbody tr th {\n",
       "        vertical-align: top;\n",
       "    }\n",
       "\n",
       "    .dataframe thead th {\n",
       "        text-align: right;\n",
       "    }\n",
       "</style>\n",
       "<table border=\"1\" class=\"dataframe\">\n",
       "  <thead>\n",
       "    <tr style=\"text-align: right;\">\n",
       "      <th></th>\n",
       "      <th>country</th>\n",
       "      <th>year</th>\n",
       "      <th>internet_users_pct</th>\n",
       "    </tr>\n",
       "  </thead>\n",
       "  <tbody>\n",
       "    <tr>\n",
       "      <th>1866</th>\n",
       "      <td>Iceland</td>\n",
       "      <td>2014</td>\n",
       "      <td>98.16</td>\n",
       "    </tr>\n",
       "    <tr>\n",
       "      <th>415</th>\n",
       "      <td>Bermuda</td>\n",
       "      <td>2014</td>\n",
       "      <td>96.80</td>\n",
       "    </tr>\n",
       "    <tr>\n",
       "      <th>3016</th>\n",
       "      <td>Norway</td>\n",
       "      <td>2014</td>\n",
       "      <td>96.30</td>\n",
       "    </tr>\n",
       "  </tbody>\n",
       "</table>\n",
       "</div>"
      ],
      "text/plain": [
       "      country  year  internet_users_pct\n",
       "1866  Iceland  2014               98.16\n",
       "415   Bermuda  2014               96.80\n",
       "3016   Norway  2014               96.30"
      ]
     },
     "execution_count": 82,
     "metadata": {},
     "output_type": "execute_result"
    }
   ],
   "source": [
    "net_14 = net_14.sort_values(by = 'internet_users_pct', ascending = False)\n",
    "net_14.head(3)"
   ]
  },
  {
   "cell_type": "code",
   "execution_count": 83,
   "id": "747a3a74",
   "metadata": {},
   "outputs": [
    {
     "data": {
      "text/html": [
       "<div>\n",
       "<style scoped>\n",
       "    .dataframe tbody tr th:only-of-type {\n",
       "        vertical-align: middle;\n",
       "    }\n",
       "\n",
       "    .dataframe tbody tr th {\n",
       "        vertical-align: top;\n",
       "    }\n",
       "\n",
       "    .dataframe thead th {\n",
       "        text-align: right;\n",
       "    }\n",
       "</style>\n",
       "<table border=\"1\" class=\"dataframe\">\n",
       "  <thead>\n",
       "    <tr style=\"text-align: right;\">\n",
       "      <th></th>\n",
       "      <th>country</th>\n",
       "      <th>year</th>\n",
       "      <th>gdp_per_capita</th>\n",
       "    </tr>\n",
       "  </thead>\n",
       "  <tbody>\n",
       "    <tr>\n",
       "      <th>669</th>\n",
       "      <td>Bermuda</td>\n",
       "      <td>1990</td>\n",
       "      <td>65961.406278</td>\n",
       "    </tr>\n",
       "    <tr>\n",
       "      <th>4904</th>\n",
       "      <td>Norway</td>\n",
       "      <td>1990</td>\n",
       "      <td>42136.603168</td>\n",
       "    </tr>\n",
       "    <tr>\n",
       "      <th>668</th>\n",
       "      <td>Bermuda</td>\n",
       "      <td>1991</td>\n",
       "      <td>63958.896254</td>\n",
       "    </tr>\n",
       "    <tr>\n",
       "      <th>4903</th>\n",
       "      <td>Norway</td>\n",
       "      <td>1991</td>\n",
       "      <td>43229.916320</td>\n",
       "    </tr>\n",
       "    <tr>\n",
       "      <th>667</th>\n",
       "      <td>Bermuda</td>\n",
       "      <td>1992</td>\n",
       "      <td>64385.407410</td>\n",
       "    </tr>\n",
       "  </tbody>\n",
       "</table>\n",
       "</div>"
      ],
      "text/plain": [
       "      country  year  gdp_per_capita\n",
       "669   Bermuda  1990    65961.406278\n",
       "4904   Norway  1990    42136.603168\n",
       "668   Bermuda  1991    63958.896254\n",
       "4903   Norway  1991    43229.916320\n",
       "667   Bermuda  1992    64385.407410"
      ]
     },
     "execution_count": 83,
     "metadata": {},
     "output_type": "execute_result"
    }
   ],
   "source": [
    "top_3 = gdp_df[(gdp_df['country'] == 'Iceland') | (gdp_df['country'] == 'Bermuda') | (gdp_df['country'] == 'Norway')]\n",
    "top_3 = top_3.drop(columns = ['data_type'])\n",
    "top_3.head()"
   ]
  },
  {
   "cell_type": "code",
   "execution_count": 84,
   "id": "9cbe7b6b",
   "metadata": {},
   "outputs": [
    {
     "data": {
      "image/png": "[encoded data removed]",
      "text/plain": [
       "<Figure size 300x900 with 3 Axes>"
      ]
     },
     "metadata": {},
     "output_type": "display_data"
    }
   ],
   "source": [
    "g = sns.FacetGrid(top_3, row = 'country')\n",
    "g.map_dataframe(sns.scatterplot, x = 'year', y = 'gdp_per_capita')\n",
    "plt.show()"
   ]
  },
  {
   "cell_type": "markdown",
   "id": "621391be",
   "metadata": {},
   "source": [
    "23. Create a plot which compares Internet Users Percentage and GDP per Capita for the year 2014. What do you notice from this plot? If you see any unusual points, investigate them."
   ]
  },
  {
   "cell_type": "code",
   "execution_count": 85,
   "id": "10d12522",
   "metadata": {},
   "outputs": [
    {
     "data": {
      "text/html": [
       "<div>\n",
       "<style scoped>\n",
       "    .dataframe tbody tr th:only-of-type {\n",
       "        vertical-align: middle;\n",
       "    }\n",
       "\n",
       "    .dataframe tbody tr th {\n",
       "        vertical-align: top;\n",
       "    }\n",
       "\n",
       "    .dataframe thead th {\n",
       "        text-align: right;\n",
       "    }\n",
       "</style>\n",
       "<table border=\"1\" class=\"dataframe\">\n",
       "  <thead>\n",
       "    <tr style=\"text-align: right;\">\n",
       "      <th></th>\n",
       "      <th>country</th>\n",
       "      <th>year</th>\n",
       "      <th>gdp_per_capita</th>\n",
       "      <th>data_type</th>\n",
       "      <th>internet_users_pct</th>\n",
       "    </tr>\n",
       "  </thead>\n",
       "  <tbody>\n",
       "    <tr>\n",
       "      <th>1142</th>\n",
       "      <td>Central African Republic</td>\n",
       "      <td>2014</td>\n",
       "      <td>822.611195</td>\n",
       "      <td>gdp</td>\n",
       "      <td>NaN</td>\n",
       "    </tr>\n",
       "    <tr>\n",
       "      <th>920</th>\n",
       "      <td>Burundi</td>\n",
       "      <td>2014</td>\n",
       "      <td>886.235296</td>\n",
       "      <td>gdp</td>\n",
       "      <td>NaN</td>\n",
       "    </tr>\n",
       "    <tr>\n",
       "      <th>5877</th>\n",
       "      <td>Somalia</td>\n",
       "      <td>2014</td>\n",
       "      <td>917.876549</td>\n",
       "      <td>gdp</td>\n",
       "      <td>NaN</td>\n",
       "    </tr>\n",
       "    <tr>\n",
       "      <th>1530</th>\n",
       "      <td>Dem. Rep. Congo</td>\n",
       "      <td>2014</td>\n",
       "      <td>1029.790813</td>\n",
       "      <td>gdp</td>\n",
       "      <td>NaN</td>\n",
       "    </tr>\n",
       "    <tr>\n",
       "      <th>4756</th>\n",
       "      <td>Niger</td>\n",
       "      <td>2014</td>\n",
       "      <td>1126.805440</td>\n",
       "      <td>gdp</td>\n",
       "      <td>NaN</td>\n",
       "    </tr>\n",
       "    <tr>\n",
       "      <th>...</th>\n",
       "      <td>...</td>\n",
       "      <td>...</td>\n",
       "      <td>...</td>\n",
       "      <td>...</td>\n",
       "      <td>...</td>\n",
       "    </tr>\n",
       "    <tr>\n",
       "      <th>929</th>\n",
       "      <td>Costa Rica</td>\n",
       "      <td>2014</td>\n",
       "      <td>NaN</td>\n",
       "      <td>net</td>\n",
       "      <td>49.41</td>\n",
       "    </tr>\n",
       "    <tr>\n",
       "      <th>2642</th>\n",
       "      <td>Mauritius</td>\n",
       "      <td>2014</td>\n",
       "      <td>NaN</td>\n",
       "      <td>net</td>\n",
       "      <td>41.44</td>\n",
       "    </tr>\n",
       "    <tr>\n",
       "      <th>953</th>\n",
       "      <td>Cote d'Ivoire</td>\n",
       "      <td>2014</td>\n",
       "      <td>NaN</td>\n",
       "      <td>net</td>\n",
       "      <td>14.60</td>\n",
       "    </tr>\n",
       "    <tr>\n",
       "      <th>3366</th>\n",
       "      <td>Saint Kitts and Nevis</td>\n",
       "      <td>2014</td>\n",
       "      <td>NaN</td>\n",
       "      <td>net</td>\n",
       "      <td>65.40</td>\n",
       "    </tr>\n",
       "    <tr>\n",
       "      <th>0</th>\n",
       "      <td>Afghanistan</td>\n",
       "      <td>2014</td>\n",
       "      <td>NaN</td>\n",
       "      <td>net</td>\n",
       "      <td>6.39</td>\n",
       "    </tr>\n",
       "  </tbody>\n",
       "</table>\n",
       "<p>444 rows × 5 columns</p>\n",
       "</div>"
      ],
      "text/plain": [
       "                       country  year  gdp_per_capita data_type  \\\n",
       "1142  Central African Republic  2014      822.611195       gdp   \n",
       "920                    Burundi  2014      886.235296       gdp   \n",
       "5877                   Somalia  2014      917.876549       gdp   \n",
       "1530           Dem. Rep. Congo  2014     1029.790813       gdp   \n",
       "4756                     Niger  2014     1126.805440       gdp   \n",
       "...                        ...   ...             ...       ...   \n",
       "929                 Costa Rica  2014             NaN       net   \n",
       "2642                 Mauritius  2014             NaN       net   \n",
       "953              Cote d'Ivoire  2014             NaN       net   \n",
       "3366     Saint Kitts and Nevis  2014             NaN       net   \n",
       "0                  Afghanistan  2014             NaN       net   \n",
       "\n",
       "      internet_users_pct  \n",
       "1142                 NaN  \n",
       "920                  NaN  \n",
       "5877                 NaN  \n",
       "1530                 NaN  \n",
       "4756                 NaN  \n",
       "...                  ...  \n",
       "929                49.41  \n",
       "2642               41.44  \n",
       "953                14.60  \n",
       "3366               65.40  \n",
       "0                   6.39  \n",
       "\n",
       "[444 rows x 5 columns]"
      ]
     },
     "execution_count": 85,
     "metadata": {},
     "output_type": "execute_result"
    }
   ],
   "source": [
    "gdp_net_14 = gdp_and_internet_use.loc[gdp_and_internet_use['year'] == 2014]\n",
    "gdp_net_14.sort_values(by = 'gdp_per_capita')"
   ]
  },
  {
   "cell_type": "code",
   "execution_count": 86,
   "id": "ba539193",
   "metadata": {},
   "outputs": [
    {
     "data": {
      "text/html": [
       "<div>\n",
       "<style scoped>\n",
       "    .dataframe tbody tr th:only-of-type {\n",
       "        vertical-align: middle;\n",
       "    }\n",
       "\n",
       "    .dataframe tbody tr th {\n",
       "        vertical-align: top;\n",
       "    }\n",
       "\n",
       "    .dataframe thead th {\n",
       "        text-align: right;\n",
       "    }\n",
       "</style>\n",
       "<table border=\"1\" class=\"dataframe\">\n",
       "  <thead>\n",
       "    <tr style=\"text-align: right;\">\n",
       "      <th></th>\n",
       "      <th>country</th>\n",
       "      <th>year</th>\n",
       "      <th>gdp_per_capita</th>\n",
       "    </tr>\n",
       "  </thead>\n",
       "  <tbody>\n",
       "    <tr>\n",
       "      <th>5767</th>\n",
       "      <td>Slovak Republic</td>\n",
       "      <td>2014</td>\n",
       "      <td>27322.142385</td>\n",
       "    </tr>\n",
       "    <tr>\n",
       "      <th>2772</th>\n",
       "      <td>IBRD only</td>\n",
       "      <td>2014</td>\n",
       "      <td>11306.030804</td>\n",
       "    </tr>\n",
       "    <tr>\n",
       "      <th>3664</th>\n",
       "      <td>Lebanon</td>\n",
       "      <td>2014</td>\n",
       "      <td>16879.181139</td>\n",
       "    </tr>\n",
       "    <tr>\n",
       "      <th>7000</th>\n",
       "      <td>Vanuatu</td>\n",
       "      <td>2014</td>\n",
       "      <td>2984.243485</td>\n",
       "    </tr>\n",
       "    <tr>\n",
       "      <th>3320</th>\n",
       "      <td>Kiribati</td>\n",
       "      <td>2014</td>\n",
       "      <td>1979.607555</td>\n",
       "    </tr>\n",
       "    <tr>\n",
       "      <th>...</th>\n",
       "      <td>...</td>\n",
       "      <td>...</td>\n",
       "      <td>...</td>\n",
       "    </tr>\n",
       "    <tr>\n",
       "      <th>6195</th>\n",
       "      <td>Sub-Saharan Africa (IDA &amp; IBRD)</td>\n",
       "      <td>2014</td>\n",
       "      <td>3892.826110</td>\n",
       "    </tr>\n",
       "    <tr>\n",
       "      <th>4286</th>\n",
       "      <td>Middle East &amp; North Africa</td>\n",
       "      <td>2014</td>\n",
       "      <td>16035.577374</td>\n",
       "    </tr>\n",
       "    <tr>\n",
       "      <th>3695</th>\n",
       "      <td>Lesotho</td>\n",
       "      <td>2014</td>\n",
       "      <td>2639.445825</td>\n",
       "    </tr>\n",
       "    <tr>\n",
       "      <th>2370</th>\n",
       "      <td>Ghana</td>\n",
       "      <td>2014</td>\n",
       "      <td>4794.147084</td>\n",
       "    </tr>\n",
       "    <tr>\n",
       "      <th>1421</th>\n",
       "      <td>Croatia</td>\n",
       "      <td>2014</td>\n",
       "      <td>24072.438805</td>\n",
       "    </tr>\n",
       "  </tbody>\n",
       "</table>\n",
       "<p>242 rows × 3 columns</p>\n",
       "</div>"
      ],
      "text/plain": [
       "                              country  year  gdp_per_capita\n",
       "5767                  Slovak Republic  2014    27322.142385\n",
       "2772                        IBRD only  2014    11306.030804\n",
       "3664                          Lebanon  2014    16879.181139\n",
       "7000                          Vanuatu  2014     2984.243485\n",
       "3320                         Kiribati  2014     1979.607555\n",
       "...                               ...   ...             ...\n",
       "6195  Sub-Saharan Africa (IDA & IBRD)  2014     3892.826110\n",
       "4286       Middle East & North Africa  2014    16035.577374\n",
       "3695                          Lesotho  2014     2639.445825\n",
       "2370                            Ghana  2014     4794.147084\n",
       "1421                          Croatia  2014    24072.438805\n",
       "\n",
       "[242 rows x 3 columns]"
      ]
     },
     "execution_count": 86,
     "metadata": {},
     "output_type": "execute_result"
    }
   ],
   "source": [
    "gdp_2014 = gdp_df[gdp_df['year'] == 2014]\n",
    "gdp_2014 = gdp_2014.drop(columns = ['data_type'])\n",
    "gdp_2014"
   ]
  },
  {
   "cell_type": "code",
   "execution_count": 87,
   "id": "bd1f828d",
   "metadata": {},
   "outputs": [
    {
     "data": {
      "text/html": [
       "<div>\n",
       "<style scoped>\n",
       "    .dataframe tbody tr th:only-of-type {\n",
       "        vertical-align: middle;\n",
       "    }\n",
       "\n",
       "    .dataframe tbody tr th {\n",
       "        vertical-align: top;\n",
       "    }\n",
       "\n",
       "    .dataframe thead th {\n",
       "        text-align: right;\n",
       "    }\n",
       "</style>\n",
       "<table border=\"1\" class=\"dataframe\">\n",
       "  <thead>\n",
       "    <tr style=\"text-align: right;\">\n",
       "      <th></th>\n",
       "      <th>country</th>\n",
       "      <th>year</th>\n",
       "      <th>internet_users_pct</th>\n",
       "    </tr>\n",
       "  </thead>\n",
       "  <tbody>\n",
       "    <tr>\n",
       "      <th>3123</th>\n",
       "      <td>Papua New Guinea</td>\n",
       "      <td>2014</td>\n",
       "      <td>9.38</td>\n",
       "    </tr>\n",
       "    <tr>\n",
       "      <th>3016</th>\n",
       "      <td>Norway</td>\n",
       "      <td>2014</td>\n",
       "      <td>96.30</td>\n",
       "    </tr>\n",
       "    <tr>\n",
       "      <th>250</th>\n",
       "      <td>Bahamas</td>\n",
       "      <td>2014</td>\n",
       "      <td>76.92</td>\n",
       "    </tr>\n",
       "    <tr>\n",
       "      <th>3061</th>\n",
       "      <td>Pakistan</td>\n",
       "      <td>2014</td>\n",
       "      <td>13.80</td>\n",
       "    </tr>\n",
       "    <tr>\n",
       "      <th>351</th>\n",
       "      <td>Belgium</td>\n",
       "      <td>2014</td>\n",
       "      <td>85.00</td>\n",
       "    </tr>\n",
       "    <tr>\n",
       "      <th>...</th>\n",
       "      <td>...</td>\n",
       "      <td>...</td>\n",
       "      <td>...</td>\n",
       "    </tr>\n",
       "    <tr>\n",
       "      <th>929</th>\n",
       "      <td>Costa Rica</td>\n",
       "      <td>2014</td>\n",
       "      <td>49.41</td>\n",
       "    </tr>\n",
       "    <tr>\n",
       "      <th>2642</th>\n",
       "      <td>Mauritius</td>\n",
       "      <td>2014</td>\n",
       "      <td>41.44</td>\n",
       "    </tr>\n",
       "    <tr>\n",
       "      <th>953</th>\n",
       "      <td>Cote d'Ivoire</td>\n",
       "      <td>2014</td>\n",
       "      <td>14.60</td>\n",
       "    </tr>\n",
       "    <tr>\n",
       "      <th>3366</th>\n",
       "      <td>Saint Kitts and Nevis</td>\n",
       "      <td>2014</td>\n",
       "      <td>65.40</td>\n",
       "    </tr>\n",
       "    <tr>\n",
       "      <th>0</th>\n",
       "      <td>Afghanistan</td>\n",
       "      <td>2014</td>\n",
       "      <td>6.39</td>\n",
       "    </tr>\n",
       "  </tbody>\n",
       "</table>\n",
       "<p>202 rows × 3 columns</p>\n",
       "</div>"
      ],
      "text/plain": [
       "                    country  year  internet_users_pct\n",
       "3123       Papua New Guinea  2014                9.38\n",
       "3016                 Norway  2014               96.30\n",
       "250                 Bahamas  2014               76.92\n",
       "3061               Pakistan  2014               13.80\n",
       "351                 Belgium  2014               85.00\n",
       "...                     ...   ...                 ...\n",
       "929              Costa Rica  2014               49.41\n",
       "2642              Mauritius  2014               41.44\n",
       "953           Cote d'Ivoire  2014               14.60\n",
       "3366  Saint Kitts and Nevis  2014               65.40\n",
       "0               Afghanistan  2014                6.39\n",
       "\n",
       "[202 rows x 3 columns]"
      ]
     },
     "execution_count": 87,
     "metadata": {},
     "output_type": "execute_result"
    }
   ],
   "source": [
    "internet_2014 = internet_df[internet_df['year'] == 2014]\n",
    "internet_2014 = internet_2014.drop(columns = ['data_type'])\n",
    "internet_2014"
   ]
  },
  {
   "cell_type": "code",
   "execution_count": 88,
   "id": "b8540225",
   "metadata": {},
   "outputs": [
    {
     "data": {
      "text/html": [
       "<div>\n",
       "<style scoped>\n",
       "    .dataframe tbody tr th:only-of-type {\n",
       "        vertical-align: middle;\n",
       "    }\n",
       "\n",
       "    .dataframe tbody tr th {\n",
       "        vertical-align: top;\n",
       "    }\n",
       "\n",
       "    .dataframe thead th {\n",
       "        text-align: right;\n",
       "    }\n",
       "</style>\n",
       "<table border=\"1\" class=\"dataframe\">\n",
       "  <thead>\n",
       "    <tr style=\"text-align: right;\">\n",
       "      <th></th>\n",
       "      <th>country</th>\n",
       "      <th>internet_users_pct</th>\n",
       "      <th>gdp_per_capita</th>\n",
       "    </tr>\n",
       "  </thead>\n",
       "  <tbody>\n",
       "    <tr>\n",
       "      <th>0</th>\n",
       "      <td>Papua New Guinea</td>\n",
       "      <td>9.38</td>\n",
       "      <td>3908.864972</td>\n",
       "    </tr>\n",
       "    <tr>\n",
       "      <th>1</th>\n",
       "      <td>Norway</td>\n",
       "      <td>96.30</td>\n",
       "      <td>62390.130313</td>\n",
       "    </tr>\n",
       "    <tr>\n",
       "      <th>2</th>\n",
       "      <td>Pakistan</td>\n",
       "      <td>13.80</td>\n",
       "      <td>4695.588614</td>\n",
       "    </tr>\n",
       "    <tr>\n",
       "      <th>3</th>\n",
       "      <td>Belgium</td>\n",
       "      <td>85.00</td>\n",
       "      <td>48748.620593</td>\n",
       "    </tr>\n",
       "    <tr>\n",
       "      <th>4</th>\n",
       "      <td>Algeria</td>\n",
       "      <td>18.09</td>\n",
       "      <td>11512.690472</td>\n",
       "    </tr>\n",
       "    <tr>\n",
       "      <th>...</th>\n",
       "      <td>...</td>\n",
       "      <td>...</td>\n",
       "      <td>...</td>\n",
       "    </tr>\n",
       "    <tr>\n",
       "      <th>158</th>\n",
       "      <td>Rwanda</td>\n",
       "      <td>10.60</td>\n",
       "      <td>1780.144699</td>\n",
       "    </tr>\n",
       "    <tr>\n",
       "      <th>159</th>\n",
       "      <td>Tonga</td>\n",
       "      <td>40.00</td>\n",
       "      <td>5860.753910</td>\n",
       "    </tr>\n",
       "    <tr>\n",
       "      <th>160</th>\n",
       "      <td>Costa Rica</td>\n",
       "      <td>49.41</td>\n",
       "      <td>18669.096679</td>\n",
       "    </tr>\n",
       "    <tr>\n",
       "      <th>161</th>\n",
       "      <td>Mauritius</td>\n",
       "      <td>41.44</td>\n",
       "      <td>19240.224708</td>\n",
       "    </tr>\n",
       "    <tr>\n",
       "      <th>162</th>\n",
       "      <td>Afghanistan</td>\n",
       "      <td>6.39</td>\n",
       "      <td>2102.384604</td>\n",
       "    </tr>\n",
       "  </tbody>\n",
       "</table>\n",
       "<p>163 rows × 3 columns</p>\n",
       "</div>"
      ],
      "text/plain": [
       "              country  internet_users_pct  gdp_per_capita\n",
       "0    Papua New Guinea                9.38     3908.864972\n",
       "1              Norway               96.30    62390.130313\n",
       "2            Pakistan               13.80     4695.588614\n",
       "3             Belgium               85.00    48748.620593\n",
       "4             Algeria               18.09    11512.690472\n",
       "..                ...                 ...             ...\n",
       "158            Rwanda               10.60     1780.144699\n",
       "159             Tonga               40.00     5860.753910\n",
       "160        Costa Rica               49.41    18669.096679\n",
       "161         Mauritius               41.44    19240.224708\n",
       "162       Afghanistan                6.39     2102.384604\n",
       "\n",
       "[163 rows x 3 columns]"
      ]
     },
     "execution_count": 88,
     "metadata": {},
     "output_type": "execute_result"
    }
   ],
   "source": [
    "all_2014 = pd.merge(internet_2014, gdp_2014, right_on = 'country', left_on = 'country', how = 'inner')\n",
    "all_2014 = all_2014.drop(columns = ['year_x', 'year_y'])\n",
    "all_2014"
   ]
  },
  {
   "cell_type": "code",
   "execution_count": 89,
   "id": "1b15d671",
   "metadata": {},
   "outputs": [
    {
     "data": {
      "image/png": "[encoded data removed]",
      "text/plain": [
       "<Figure size 640x480 with 1 Axes>"
      ]
     },
     "metadata": {},
     "output_type": "display_data"
    }
   ],
   "source": [
    "sns.regplot(x=all_2014['gdp_per_capita'], y=all_2014['internet_users_pct'])\n",
    "plt.title('GDP and internet use by country')\n",
    "plt.ylim(0, 100)\n",
    "plt.xlim(0,120000)\n",
    "plt.text(90000, 80, \"Singapore\", fontsize=10)\n",
    "plt.text(68000, 72, \"Cayman Islands\", fontsize=10)\n",
    "plt.text(35000, 17, \"Equatorial New Guinea\", fontsize=10)\n",
    "plt.text(0, 77, \"Barbados\", fontsize = 10)\n",
    "plt.text(2000, 73, \"Lebanon\", fontsize = 10)\n",
    "plt.show()"
   ]
  },
  {
   "cell_type": "code",
   "execution_count": 90,
   "id": "e942b7ec",
   "metadata": {},
   "outputs": [
    {
     "data": {
      "text/html": [
       "<div>\n",
       "<style scoped>\n",
       "    .dataframe tbody tr th:only-of-type {\n",
       "        vertical-align: middle;\n",
       "    }\n",
       "\n",
       "    .dataframe tbody tr th {\n",
       "        vertical-align: top;\n",
       "    }\n",
       "\n",
       "    .dataframe thead th {\n",
       "        text-align: right;\n",
       "    }\n",
       "</style>\n",
       "<table border=\"1\" class=\"dataframe\">\n",
       "  <thead>\n",
       "    <tr style=\"text-align: right;\">\n",
       "      <th></th>\n",
       "      <th>country</th>\n",
       "      <th>internet_users_pct</th>\n",
       "      <th>gdp_per_capita</th>\n",
       "    </tr>\n",
       "  </thead>\n",
       "  <tbody>\n",
       "    <tr>\n",
       "      <th>53</th>\n",
       "      <td>Luxembourg</td>\n",
       "      <td>94.67</td>\n",
       "      <td>113313.578898</td>\n",
       "    </tr>\n",
       "    <tr>\n",
       "      <th>96</th>\n",
       "      <td>Qatar</td>\n",
       "      <td>91.49</td>\n",
       "      <td>95578.261511</td>\n",
       "    </tr>\n",
       "    <tr>\n",
       "      <th>87</th>\n",
       "      <td>Singapore</td>\n",
       "      <td>82.00</td>\n",
       "      <td>87616.637527</td>\n",
       "    </tr>\n",
       "    <tr>\n",
       "      <th>118</th>\n",
       "      <td>Bermuda</td>\n",
       "      <td>96.80</td>\n",
       "      <td>77361.104881</td>\n",
       "    </tr>\n",
       "    <tr>\n",
       "      <th>33</th>\n",
       "      <td>Switzerland</td>\n",
       "      <td>87.00</td>\n",
       "      <td>67682.686175</td>\n",
       "    </tr>\n",
       "    <tr>\n",
       "      <th>108</th>\n",
       "      <td>Cayman Islands</td>\n",
       "      <td>74.10</td>\n",
       "      <td>66326.886773</td>\n",
       "    </tr>\n",
       "    <tr>\n",
       "      <th>111</th>\n",
       "      <td>United Arab Emirates</td>\n",
       "      <td>90.40</td>\n",
       "      <td>62452.184508</td>\n",
       "    </tr>\n",
       "    <tr>\n",
       "      <th>1</th>\n",
       "      <td>Norway</td>\n",
       "      <td>96.30</td>\n",
       "      <td>62390.130313</td>\n",
       "    </tr>\n",
       "  </tbody>\n",
       "</table>\n",
       "</div>"
      ],
      "text/plain": [
       "                  country  internet_users_pct  gdp_per_capita\n",
       "53             Luxembourg               94.67   113313.578898\n",
       "96                  Qatar               91.49    95578.261511\n",
       "87              Singapore               82.00    87616.637527\n",
       "118               Bermuda               96.80    77361.104881\n",
       "33            Switzerland               87.00    67682.686175\n",
       "108        Cayman Islands               74.10    66326.886773\n",
       "111  United Arab Emirates               90.40    62452.184508\n",
       "1                  Norway               96.30    62390.130313"
      ]
     },
     "execution_count": 90,
     "metadata": {},
     "output_type": "execute_result"
    }
   ],
   "source": [
    "high_gdp = all_2014[all_2014['gdp_per_capita'] > 60000]\n",
    "high_gdp.sort_values(by = 'gdp_per_capita', ascending = False)"
   ]
  },
  {
   "cell_type": "code",
   "execution_count": 91,
   "id": "632fc91e",
   "metadata": {},
   "outputs": [
    {
     "data": {
      "text/html": [
       "<div>\n",
       "<style scoped>\n",
       "    .dataframe tbody tr th:only-of-type {\n",
       "        vertical-align: middle;\n",
       "    }\n",
       "\n",
       "    .dataframe tbody tr th {\n",
       "        vertical-align: top;\n",
       "    }\n",
       "\n",
       "    .dataframe thead th {\n",
       "        text-align: right;\n",
       "    }\n",
       "</style>\n",
       "<table border=\"1\" class=\"dataframe\">\n",
       "  <thead>\n",
       "    <tr style=\"text-align: right;\">\n",
       "      <th></th>\n",
       "      <th>country</th>\n",
       "      <th>internet_users_pct</th>\n",
       "      <th>gdp_per_capita</th>\n",
       "    </tr>\n",
       "  </thead>\n",
       "  <tbody>\n",
       "    <tr>\n",
       "      <th>16</th>\n",
       "      <td>Barbados</td>\n",
       "      <td>76.67</td>\n",
       "      <td>15043.729910</td>\n",
       "    </tr>\n",
       "    <tr>\n",
       "      <th>58</th>\n",
       "      <td>Lebanon</td>\n",
       "      <td>74.70</td>\n",
       "      <td>16879.181139</td>\n",
       "    </tr>\n",
       "  </tbody>\n",
       "</table>\n",
       "</div>"
      ],
      "text/plain": [
       "     country  internet_users_pct  gdp_per_capita\n",
       "16  Barbados               76.67    15043.729910\n",
       "58   Lebanon               74.70    16879.181139"
      ]
     },
     "execution_count": 91,
     "metadata": {},
     "output_type": "execute_result"
    }
   ],
   "source": [
    "all_2014[(all_2014['internet_users_pct'] >70) & (all_2014['gdp_per_capita'] < 20000)]"
   ]
  },
  {
   "cell_type": "markdown",
   "id": "45ebee8a",
   "metadata": {},
   "source": [
    "24. **Stretch Question:** Use the `qcut` function from pandas (https://pandas.pydata.org/docs/reference/api/pandas.qcut.html) to divide countries in `gdp_per_capita_2014` into three groups based on their GDP per capita values. Label these groups as \"Low\", \"Medium\", and \"High\". Put these labels in a new column, named \"GDP_group\"."
   ]
  },
  {
   "cell_type": "code",
   "execution_count": 92,
   "id": "e809f03a",
   "metadata": {},
   "outputs": [],
   "source": [
    "all_2014['gdp_group'] = pd.qcut(all_2014['gdp_per_capita'], 3, labels = ['low','medium','high'])"
   ]
  },
  {
   "cell_type": "code",
   "execution_count": 93,
   "id": "2dd42287",
   "metadata": {},
   "outputs": [
    {
     "data": {
      "text/html": [
       "<div>\n",
       "<style scoped>\n",
       "    .dataframe tbody tr th:only-of-type {\n",
       "        vertical-align: middle;\n",
       "    }\n",
       "\n",
       "    .dataframe tbody tr th {\n",
       "        vertical-align: top;\n",
       "    }\n",
       "\n",
       "    .dataframe thead th {\n",
       "        text-align: right;\n",
       "    }\n",
       "</style>\n",
       "<table border=\"1\" class=\"dataframe\">\n",
       "  <thead>\n",
       "    <tr style=\"text-align: right;\">\n",
       "      <th></th>\n",
       "      <th>country</th>\n",
       "      <th>internet_users_pct</th>\n",
       "      <th>gdp_per_capita</th>\n",
       "      <th>gdp_group</th>\n",
       "    </tr>\n",
       "  </thead>\n",
       "  <tbody>\n",
       "    <tr>\n",
       "      <th>0</th>\n",
       "      <td>Papua New Guinea</td>\n",
       "      <td>9.38000</td>\n",
       "      <td>3908.864972</td>\n",
       "      <td>low</td>\n",
       "    </tr>\n",
       "    <tr>\n",
       "      <th>1</th>\n",
       "      <td>Norway</td>\n",
       "      <td>96.30000</td>\n",
       "      <td>62390.130313</td>\n",
       "      <td>high</td>\n",
       "    </tr>\n",
       "    <tr>\n",
       "      <th>2</th>\n",
       "      <td>Pakistan</td>\n",
       "      <td>13.80000</td>\n",
       "      <td>4695.588614</td>\n",
       "      <td>low</td>\n",
       "    </tr>\n",
       "    <tr>\n",
       "      <th>3</th>\n",
       "      <td>Belgium</td>\n",
       "      <td>85.00000</td>\n",
       "      <td>48748.620593</td>\n",
       "      <td>high</td>\n",
       "    </tr>\n",
       "    <tr>\n",
       "      <th>4</th>\n",
       "      <td>Algeria</td>\n",
       "      <td>18.09000</td>\n",
       "      <td>11512.690472</td>\n",
       "      <td>medium</td>\n",
       "    </tr>\n",
       "    <tr>\n",
       "      <th>5</th>\n",
       "      <td>Bangladesh</td>\n",
       "      <td>9.60000</td>\n",
       "      <td>4157.919304</td>\n",
       "      <td>low</td>\n",
       "    </tr>\n",
       "    <tr>\n",
       "      <th>6</th>\n",
       "      <td>Nicaragua</td>\n",
       "      <td>17.60000</td>\n",
       "      <td>5443.311610</td>\n",
       "      <td>low</td>\n",
       "    </tr>\n",
       "    <tr>\n",
       "      <th>7</th>\n",
       "      <td>Zambia</td>\n",
       "      <td>17.34000</td>\n",
       "      <td>3450.037600</td>\n",
       "      <td>low</td>\n",
       "    </tr>\n",
       "    <tr>\n",
       "      <th>8</th>\n",
       "      <td>Panama</td>\n",
       "      <td>44.92000</td>\n",
       "      <td>27352.519913</td>\n",
       "      <td>high</td>\n",
       "    </tr>\n",
       "    <tr>\n",
       "      <th>9</th>\n",
       "      <td>Austria</td>\n",
       "      <td>81.00000</td>\n",
       "      <td>52932.900112</td>\n",
       "      <td>high</td>\n",
       "    </tr>\n",
       "    <tr>\n",
       "      <th>10</th>\n",
       "      <td>Azerbaijan</td>\n",
       "      <td>61.00000</td>\n",
       "      <td>14867.943735</td>\n",
       "      <td>medium</td>\n",
       "    </tr>\n",
       "    <tr>\n",
       "      <th>11</th>\n",
       "      <td>Angola</td>\n",
       "      <td>21.26000</td>\n",
       "      <td>8240.347981</td>\n",
       "      <td>medium</td>\n",
       "    </tr>\n",
       "    <tr>\n",
       "      <th>12</th>\n",
       "      <td>Philippines</td>\n",
       "      <td>39.69000</td>\n",
       "      <td>6973.638909</td>\n",
       "      <td>low</td>\n",
       "    </tr>\n",
       "    <tr>\n",
       "      <th>13</th>\n",
       "      <td>Bahrain</td>\n",
       "      <td>90.99998</td>\n",
       "      <td>48201.157172</td>\n",
       "      <td>high</td>\n",
       "    </tr>\n",
       "    <tr>\n",
       "      <th>14</th>\n",
       "      <td>Poland</td>\n",
       "      <td>66.60000</td>\n",
       "      <td>26649.578180</td>\n",
       "      <td>high</td>\n",
       "    </tr>\n",
       "    <tr>\n",
       "      <th>15</th>\n",
       "      <td>Niger</td>\n",
       "      <td>1.95000</td>\n",
       "      <td>1126.805440</td>\n",
       "      <td>low</td>\n",
       "    </tr>\n",
       "    <tr>\n",
       "      <th>16</th>\n",
       "      <td>Barbados</td>\n",
       "      <td>76.67000</td>\n",
       "      <td>15043.729910</td>\n",
       "      <td>medium</td>\n",
       "    </tr>\n",
       "    <tr>\n",
       "      <th>17</th>\n",
       "      <td>Belarus</td>\n",
       "      <td>59.02000</td>\n",
       "      <td>19119.346152</td>\n",
       "      <td>medium</td>\n",
       "    </tr>\n",
       "    <tr>\n",
       "      <th>18</th>\n",
       "      <td>Oman</td>\n",
       "      <td>70.22000</td>\n",
       "      <td>34875.782967</td>\n",
       "      <td>high</td>\n",
       "    </tr>\n",
       "    <tr>\n",
       "      <th>19</th>\n",
       "      <td>Peru</td>\n",
       "      <td>40.20000</td>\n",
       "      <td>11877.078932</td>\n",
       "      <td>medium</td>\n",
       "    </tr>\n",
       "    <tr>\n",
       "      <th>20</th>\n",
       "      <td>Argentina</td>\n",
       "      <td>64.70000</td>\n",
       "      <td>23550.099060</td>\n",
       "      <td>medium</td>\n",
       "    </tr>\n",
       "    <tr>\n",
       "      <th>21</th>\n",
       "      <td>Nigeria</td>\n",
       "      <td>42.68000</td>\n",
       "      <td>5516.385598</td>\n",
       "      <td>low</td>\n",
       "    </tr>\n",
       "    <tr>\n",
       "      <th>22</th>\n",
       "      <td>Paraguay</td>\n",
       "      <td>43.00000</td>\n",
       "      <td>11643.727505</td>\n",
       "      <td>medium</td>\n",
       "    </tr>\n",
       "    <tr>\n",
       "      <th>23</th>\n",
       "      <td>Australia</td>\n",
       "      <td>84.56000</td>\n",
       "      <td>47232.875387</td>\n",
       "      <td>high</td>\n",
       "    </tr>\n",
       "    <tr>\n",
       "      <th>24</th>\n",
       "      <td>Albania</td>\n",
       "      <td>60.10000</td>\n",
       "      <td>11586.833878</td>\n",
       "      <td>medium</td>\n",
       "    </tr>\n",
       "    <tr>\n",
       "      <th>25</th>\n",
       "      <td>Antigua and Barbuda</td>\n",
       "      <td>64.00000</td>\n",
       "      <td>18104.683788</td>\n",
       "      <td>medium</td>\n",
       "    </tr>\n",
       "    <tr>\n",
       "      <th>26</th>\n",
       "      <td>Armenia</td>\n",
       "      <td>46.30000</td>\n",
       "      <td>11019.838785</td>\n",
       "      <td>medium</td>\n",
       "    </tr>\n",
       "    <tr>\n",
       "      <th>27</th>\n",
       "      <td>Aruba</td>\n",
       "      <td>83.78000</td>\n",
       "      <td>35405.034129</td>\n",
       "      <td>high</td>\n",
       "    </tr>\n",
       "    <tr>\n",
       "      <th>28</th>\n",
       "      <td>Zimbabwe</td>\n",
       "      <td>19.89000</td>\n",
       "      <td>2357.651166</td>\n",
       "      <td>low</td>\n",
       "    </tr>\n",
       "    <tr>\n",
       "      <th>29</th>\n",
       "      <td>Vanuatu</td>\n",
       "      <td>18.80000</td>\n",
       "      <td>2984.243485</td>\n",
       "      <td>low</td>\n",
       "    </tr>\n",
       "    <tr>\n",
       "      <th>30</th>\n",
       "      <td>New Zealand</td>\n",
       "      <td>85.50000</td>\n",
       "      <td>40353.106055</td>\n",
       "      <td>high</td>\n",
       "    </tr>\n",
       "    <tr>\n",
       "      <th>31</th>\n",
       "      <td>Libya</td>\n",
       "      <td>17.76000</td>\n",
       "      <td>18756.979435</td>\n",
       "      <td>medium</td>\n",
       "    </tr>\n",
       "    <tr>\n",
       "      <th>32</th>\n",
       "      <td>Senegal</td>\n",
       "      <td>17.70000</td>\n",
       "      <td>2868.315877</td>\n",
       "      <td>low</td>\n",
       "    </tr>\n",
       "    <tr>\n",
       "      <th>33</th>\n",
       "      <td>Switzerland</td>\n",
       "      <td>87.00000</td>\n",
       "      <td>67682.686175</td>\n",
       "      <td>high</td>\n",
       "    </tr>\n",
       "    <tr>\n",
       "      <th>34</th>\n",
       "      <td>Georgia</td>\n",
       "      <td>48.90000</td>\n",
       "      <td>12254.645655</td>\n",
       "      <td>medium</td>\n",
       "    </tr>\n",
       "    <tr>\n",
       "      <th>35</th>\n",
       "      <td>Germany</td>\n",
       "      <td>86.19000</td>\n",
       "      <td>50845.526995</td>\n",
       "      <td>high</td>\n",
       "    </tr>\n",
       "    <tr>\n",
       "      <th>36</th>\n",
       "      <td>Ghana</td>\n",
       "      <td>18.90000</td>\n",
       "      <td>4794.147084</td>\n",
       "      <td>low</td>\n",
       "    </tr>\n",
       "    <tr>\n",
       "      <th>37</th>\n",
       "      <td>Liberia</td>\n",
       "      <td>5.41000</td>\n",
       "      <td>1673.055864</td>\n",
       "      <td>low</td>\n",
       "    </tr>\n",
       "    <tr>\n",
       "      <th>38</th>\n",
       "      <td>Sweden</td>\n",
       "      <td>92.52000</td>\n",
       "      <td>49258.996164</td>\n",
       "      <td>high</td>\n",
       "    </tr>\n",
       "    <tr>\n",
       "      <th>39</th>\n",
       "      <td>Greece</td>\n",
       "      <td>63.21000</td>\n",
       "      <td>28129.961324</td>\n",
       "      <td>high</td>\n",
       "    </tr>\n",
       "    <tr>\n",
       "      <th>40</th>\n",
       "      <td>Serbia</td>\n",
       "      <td>53.50000</td>\n",
       "      <td>15226.326480</td>\n",
       "      <td>medium</td>\n",
       "    </tr>\n",
       "    <tr>\n",
       "      <th>41</th>\n",
       "      <td>Grenada</td>\n",
       "      <td>37.38000</td>\n",
       "      <td>14317.325731</td>\n",
       "      <td>medium</td>\n",
       "    </tr>\n",
       "    <tr>\n",
       "      <th>42</th>\n",
       "      <td>Seychelles</td>\n",
       "      <td>54.26000</td>\n",
       "      <td>25359.846461</td>\n",
       "      <td>high</td>\n",
       "    </tr>\n",
       "    <tr>\n",
       "      <th>43</th>\n",
       "      <td>Lesotho</td>\n",
       "      <td>11.00000</td>\n",
       "      <td>2639.445825</td>\n",
       "      <td>low</td>\n",
       "    </tr>\n",
       "    <tr>\n",
       "      <th>44</th>\n",
       "      <td>Gabon</td>\n",
       "      <td>9.81000</td>\n",
       "      <td>15437.265029</td>\n",
       "      <td>medium</td>\n",
       "    </tr>\n",
       "    <tr>\n",
       "      <th>45</th>\n",
       "      <td>Lithuania</td>\n",
       "      <td>72.13000</td>\n",
       "      <td>29855.831491</td>\n",
       "      <td>high</td>\n",
       "    </tr>\n",
       "    <tr>\n",
       "      <th>46</th>\n",
       "      <td>Malawi</td>\n",
       "      <td>5.83000</td>\n",
       "      <td>1457.473020</td>\n",
       "      <td>low</td>\n",
       "    </tr>\n",
       "    <tr>\n",
       "      <th>47</th>\n",
       "      <td>Tajikistan</td>\n",
       "      <td>17.49000</td>\n",
       "      <td>2883.697905</td>\n",
       "      <td>low</td>\n",
       "    </tr>\n",
       "    <tr>\n",
       "      <th>48</th>\n",
       "      <td>Madagascar</td>\n",
       "      <td>3.70000</td>\n",
       "      <td>1540.744961</td>\n",
       "      <td>low</td>\n",
       "    </tr>\n",
       "    <tr>\n",
       "      <th>49</th>\n",
       "      <td>Estonia</td>\n",
       "      <td>84.24000</td>\n",
       "      <td>30494.096303</td>\n",
       "      <td>high</td>\n",
       "    </tr>\n",
       "  </tbody>\n",
       "</table>\n",
       "</div>"
      ],
      "text/plain": [
       "                country  internet_users_pct  gdp_per_capita gdp_group\n",
       "0      Papua New Guinea             9.38000     3908.864972       low\n",
       "1                Norway            96.30000    62390.130313      high\n",
       "2              Pakistan            13.80000     4695.588614       low\n",
       "3               Belgium            85.00000    48748.620593      high\n",
       "4               Algeria            18.09000    11512.690472    medium\n",
       "5            Bangladesh             9.60000     4157.919304       low\n",
       "6             Nicaragua            17.60000     5443.311610       low\n",
       "7                Zambia            17.34000     3450.037600       low\n",
       "8                Panama            44.92000    27352.519913      high\n",
       "9               Austria            81.00000    52932.900112      high\n",
       "10           Azerbaijan            61.00000    14867.943735    medium\n",
       "11               Angola            21.26000     8240.347981    medium\n",
       "12          Philippines            39.69000     6973.638909       low\n",
       "13              Bahrain            90.99998    48201.157172      high\n",
       "14               Poland            66.60000    26649.578180      high\n",
       "15                Niger             1.95000     1126.805440       low\n",
       "16             Barbados            76.67000    15043.729910    medium\n",
       "17              Belarus            59.02000    19119.346152    medium\n",
       "18                 Oman            70.22000    34875.782967      high\n",
       "19                 Peru            40.20000    11877.078932    medium\n",
       "20            Argentina            64.70000    23550.099060    medium\n",
       "21              Nigeria            42.68000     5516.385598       low\n",
       "22             Paraguay            43.00000    11643.727505    medium\n",
       "23            Australia            84.56000    47232.875387      high\n",
       "24              Albania            60.10000    11586.833878    medium\n",
       "25  Antigua and Barbuda            64.00000    18104.683788    medium\n",
       "26              Armenia            46.30000    11019.838785    medium\n",
       "27                Aruba            83.78000    35405.034129      high\n",
       "28             Zimbabwe            19.89000     2357.651166       low\n",
       "29              Vanuatu            18.80000     2984.243485       low\n",
       "30          New Zealand            85.50000    40353.106055      high\n",
       "31                Libya            17.76000    18756.979435    medium\n",
       "32              Senegal            17.70000     2868.315877       low\n",
       "33          Switzerland            87.00000    67682.686175      high\n",
       "34              Georgia            48.90000    12254.645655    medium\n",
       "35              Germany            86.19000    50845.526995      high\n",
       "36                Ghana            18.90000     4794.147084       low\n",
       "37              Liberia             5.41000     1673.055864       low\n",
       "38               Sweden            92.52000    49258.996164      high\n",
       "39               Greece            63.21000    28129.961324      high\n",
       "40               Serbia            53.50000    15226.326480    medium\n",
       "41              Grenada            37.38000    14317.325731    medium\n",
       "42           Seychelles            54.26000    25359.846461      high\n",
       "43              Lesotho            11.00000     2639.445825       low\n",
       "44                Gabon             9.81000    15437.265029    medium\n",
       "45            Lithuania            72.13000    29855.831491      high\n",
       "46               Malawi             5.83000     1457.473020       low\n",
       "47           Tajikistan            17.49000     2883.697905       low\n",
       "48           Madagascar             3.70000     1540.744961       low\n",
       "49              Estonia            84.24000    30494.096303      high"
      ]
     },
     "execution_count": 93,
     "metadata": {},
     "output_type": "execute_result"
    }
   ],
   "source": [
    "all_2014.head(50)"
   ]
  },
  {
   "cell_type": "markdown",
   "id": "2bc32f0d",
   "metadata": {},
   "source": [
    "25. **Stretch Question:** How does the median internet users percentage compare for the three gdp groups?"
   ]
  },
  {
   "cell_type": "code",
   "execution_count": 99,
   "id": "d6e303bc",
   "metadata": {},
   "outputs": [
    {
     "name": "stdout",
     "output_type": "stream",
     "text": [
      "high gdp median internet users 79.69999999999999\n",
      "med gdp median internet users 43.7\n",
      "low gdp median internet users 10.7\n"
     ]
    }
   ],
   "source": [
    "high_gdp = all_2014[all_2014['gdp_group'] == 'high']\n",
    "med_gdp = all_2014[all_2014['gdp_group'] == 'medium']\n",
    "low_gdp = all_2014[all_2014['gdp_group'] == 'low']\n",
    "\n",
    "print('high gdp median internet users', high_gdp['internet_users_pct'].median())\n",
    "print('med gdp median internet users', med_gdp['internet_users_pct'].median())\n",
    "print('low gdp median internet users', low_gdp['internet_users_pct'].median())"
   ]
  },
  {
   "cell_type": "code",
   "execution_count": null,
   "id": "aa4e0cc0",
   "metadata": {},
   "outputs": [],
   "source": []
  }
 ],
 "metadata": {
  "kernelspec": {
   "display_name": "Python 3 (ipykernel)",
   "language": "python",
   "name": "python3"
  },
  "language_info": {
   "codemirror_mode": {
    "name": "ipython",
    "version": 3
   },
   "file_extension": ".py",
   "mimetype": "text/x-python",
   "name": "python",
   "nbconvert_exporter": "python",
   "pygments_lexer": "ipython3",
   "version": "3.9.13"
  }
 },
 "nbformat": 4,
 "nbformat_minor": 5
}
